{
 "cells": [
  {
   "cell_type": "code",
   "execution_count": null,
   "metadata": {},
   "outputs": [],
   "source": [
    "salary_boost_results = permutation_importance(gboost, X_test, y_test, n_repeats=10, random_state=3, n_jobs=-1)\n",
    "perm_importance = pd.DataFrame({'importance': salary_boost_results.importances_mean*100}, index=X_test.columns)\n",
    "perm_importance.sort_values('importance', axis=0, ascending=True, inplace=True)\n",
    "\n",
    "sorted_idx = salary_boost_results.importances_mean.argsort()\n",
    "perm_importance_2 = pd.DataFrame(salary_boost_results.importances.T *100, columns = X_test.columns)\n",
    "\n",
    "sorted_idx = perm_importance_2.median().sort_values().index[::-1]\n",
    "perm_import_sorted = perm_importance_2[sorted_idx]\n",
    "\n",
    "fig, ax = plt.subplots(figsize=(10, 8))\n",
    "sns.boxplot(data=perm_import_sorted, orient='h', ax=ax)\n",
    "ax.set_xlabel('Importance')\n",
    "ax.set_title('Permutation Importance', fontsize=18)\n",
    "fig.tight_layout();"
   ]
  }
 ],
 "metadata": {
  "kernelspec": {
   "display_name": "Python 3",
   "language": "python",
   "name": "python3"
  },
  "language_info": {
   "codemirror_mode": {
    "name": "ipython",
    "version": 3
   },
   "file_extension": ".py",
   "mimetype": "text/x-python",
   "name": "python",
   "nbconvert_exporter": "python",
   "pygments_lexer": "ipython3",
   "version": "3.7.9"
  }
 },
 "nbformat": 4,
 "nbformat_minor": 4
}
