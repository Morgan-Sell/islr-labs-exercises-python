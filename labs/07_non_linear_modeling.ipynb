{
 "cells": [
  {
   "cell_type": "markdown",
   "metadata": {},
   "source": [
    "# Ch. 7 Moving Beyond Linearity"
   ]
  },
  {
   "cell_type": "code",
   "execution_count": 25,
   "metadata": {},
   "outputs": [],
   "source": [
    "import pandas as pd\n",
    "import numpy as np\n",
    "import matplotlib.pyplot as plt\n",
    "import seaborn as sns\n",
    "\n",
    "from sklearn.preprocessing import PolynomialFeatures\n",
    "from sklearn.model_selection import RepeatedKFold, cross_val_score, train_test_split\n",
    "from sklearn.metrics import mean_squared_error \n",
    "\n",
    "import statsmodels.api as sm\n",
    "import statsmodels.formula.api as smf\n",
    "from patsy import dmatrix\n",
    "\n",
    "import os.path\n",
    "\n",
    "%matplotlib inline"
   ]
  },
  {
   "cell_type": "markdown",
   "metadata": {},
   "source": [
    "## Import Data and Review"
   ]
  },
  {
   "cell_type": "code",
   "execution_count": 4,
   "metadata": {},
   "outputs": [
    {
     "data": {
      "text/html": [
       "<div>\n",
       "<style scoped>\n",
       "    .dataframe tbody tr th:only-of-type {\n",
       "        vertical-align: middle;\n",
       "    }\n",
       "\n",
       "    .dataframe tbody tr th {\n",
       "        vertical-align: top;\n",
       "    }\n",
       "\n",
       "    .dataframe thead th {\n",
       "        text-align: right;\n",
       "    }\n",
       "</style>\n",
       "<table border=\"1\" class=\"dataframe\">\n",
       "  <thead>\n",
       "    <tr style=\"text-align: right;\">\n",
       "      <th></th>\n",
       "      <th>year</th>\n",
       "      <th>age</th>\n",
       "      <th>sex</th>\n",
       "      <th>maritl</th>\n",
       "      <th>race</th>\n",
       "      <th>education</th>\n",
       "      <th>region</th>\n",
       "      <th>jobclass</th>\n",
       "      <th>health</th>\n",
       "      <th>health_ins</th>\n",
       "      <th>logwage</th>\n",
       "      <th>wage</th>\n",
       "    </tr>\n",
       "  </thead>\n",
       "  <tbody>\n",
       "    <tr>\n",
       "      <th>231655</th>\n",
       "      <td>2006</td>\n",
       "      <td>18</td>\n",
       "      <td>1. Male</td>\n",
       "      <td>1. Never Married</td>\n",
       "      <td>1. White</td>\n",
       "      <td>1. &lt; HS Grad</td>\n",
       "      <td>2. Middle Atlantic</td>\n",
       "      <td>1. Industrial</td>\n",
       "      <td>1. &lt;=Good</td>\n",
       "      <td>2. No</td>\n",
       "      <td>4.318063</td>\n",
       "      <td>75.043154</td>\n",
       "    </tr>\n",
       "    <tr>\n",
       "      <th>86582</th>\n",
       "      <td>2004</td>\n",
       "      <td>24</td>\n",
       "      <td>1. Male</td>\n",
       "      <td>1. Never Married</td>\n",
       "      <td>1. White</td>\n",
       "      <td>4. College Grad</td>\n",
       "      <td>2. Middle Atlantic</td>\n",
       "      <td>2. Information</td>\n",
       "      <td>2. &gt;=Very Good</td>\n",
       "      <td>2. No</td>\n",
       "      <td>4.255273</td>\n",
       "      <td>70.476020</td>\n",
       "    </tr>\n",
       "    <tr>\n",
       "      <th>161300</th>\n",
       "      <td>2003</td>\n",
       "      <td>45</td>\n",
       "      <td>1. Male</td>\n",
       "      <td>2. Married</td>\n",
       "      <td>1. White</td>\n",
       "      <td>3. Some College</td>\n",
       "      <td>2. Middle Atlantic</td>\n",
       "      <td>1. Industrial</td>\n",
       "      <td>1. &lt;=Good</td>\n",
       "      <td>1. Yes</td>\n",
       "      <td>4.875061</td>\n",
       "      <td>130.982177</td>\n",
       "    </tr>\n",
       "    <tr>\n",
       "      <th>155159</th>\n",
       "      <td>2003</td>\n",
       "      <td>43</td>\n",
       "      <td>1. Male</td>\n",
       "      <td>2. Married</td>\n",
       "      <td>3. Asian</td>\n",
       "      <td>4. College Grad</td>\n",
       "      <td>2. Middle Atlantic</td>\n",
       "      <td>2. Information</td>\n",
       "      <td>2. &gt;=Very Good</td>\n",
       "      <td>1. Yes</td>\n",
       "      <td>5.041393</td>\n",
       "      <td>154.685293</td>\n",
       "    </tr>\n",
       "    <tr>\n",
       "      <th>11443</th>\n",
       "      <td>2005</td>\n",
       "      <td>50</td>\n",
       "      <td>1. Male</td>\n",
       "      <td>4. Divorced</td>\n",
       "      <td>1. White</td>\n",
       "      <td>2. HS Grad</td>\n",
       "      <td>2. Middle Atlantic</td>\n",
       "      <td>2. Information</td>\n",
       "      <td>1. &lt;=Good</td>\n",
       "      <td>1. Yes</td>\n",
       "      <td>4.318063</td>\n",
       "      <td>75.043154</td>\n",
       "    </tr>\n",
       "  </tbody>\n",
       "</table>\n",
       "</div>"
      ],
      "text/plain": [
       "        year  age      sex            maritl      race        education  \\\n",
       "231655  2006   18  1. Male  1. Never Married  1. White     1. < HS Grad   \n",
       "86582   2004   24  1. Male  1. Never Married  1. White  4. College Grad   \n",
       "161300  2003   45  1. Male        2. Married  1. White  3. Some College   \n",
       "155159  2003   43  1. Male        2. Married  3. Asian  4. College Grad   \n",
       "11443   2005   50  1. Male       4. Divorced  1. White       2. HS Grad   \n",
       "\n",
       "                    region        jobclass          health health_ins  \\\n",
       "231655  2. Middle Atlantic   1. Industrial       1. <=Good      2. No   \n",
       "86582   2. Middle Atlantic  2. Information  2. >=Very Good      2. No   \n",
       "161300  2. Middle Atlantic   1. Industrial       1. <=Good     1. Yes   \n",
       "155159  2. Middle Atlantic  2. Information  2. >=Very Good     1. Yes   \n",
       "11443   2. Middle Atlantic  2. Information       1. <=Good     1. Yes   \n",
       "\n",
       "         logwage        wage  \n",
       "231655  4.318063   75.043154  \n",
       "86582   4.255273   70.476020  \n",
       "161300  4.875061  130.982177  \n",
       "155159  5.041393  154.685293  \n",
       "11443   4.318063   75.043154  "
      ]
     },
     "execution_count": 4,
     "metadata": {},
     "output_type": "execute_result"
    }
   ],
   "source": [
    "url_path = os.path.abspath('..')\n",
    "wage = pd.read_csv(url_path + '/data/wage.csv', index_col=0)\n",
    "wage.head()"
   ]
  },
  {
   "cell_type": "code",
   "execution_count": 5,
   "metadata": {},
   "outputs": [
    {
     "name": "stdout",
     "output_type": "stream",
     "text": [
      "<class 'pandas.core.frame.DataFrame'>\n",
      "Int64Index: 3000 entries, 231655 to 453557\n",
      "Data columns (total 12 columns):\n",
      " #   Column      Non-Null Count  Dtype  \n",
      "---  ------      --------------  -----  \n",
      " 0   year        3000 non-null   int64  \n",
      " 1   age         3000 non-null   int64  \n",
      " 2   sex         3000 non-null   object \n",
      " 3   maritl      3000 non-null   object \n",
      " 4   race        3000 non-null   object \n",
      " 5   education   3000 non-null   object \n",
      " 6   region      3000 non-null   object \n",
      " 7   jobclass    3000 non-null   object \n",
      " 8   health      3000 non-null   object \n",
      " 9   health_ins  3000 non-null   object \n",
      " 10  logwage     3000 non-null   float64\n",
      " 11  wage        3000 non-null   float64\n",
      "dtypes: float64(2), int64(2), object(8)\n",
      "memory usage: 304.7+ KB\n"
     ]
    }
   ],
   "source": [
    "wage.info()"
   ]
  },
  {
   "cell_type": "code",
   "execution_count": 6,
   "metadata": {},
   "outputs": [
    {
     "data": {
      "text/html": [
       "<div>\n",
       "<style scoped>\n",
       "    .dataframe tbody tr th:only-of-type {\n",
       "        vertical-align: middle;\n",
       "    }\n",
       "\n",
       "    .dataframe tbody tr th {\n",
       "        vertical-align: top;\n",
       "    }\n",
       "\n",
       "    .dataframe thead th {\n",
       "        text-align: right;\n",
       "    }\n",
       "</style>\n",
       "<table border=\"1\" class=\"dataframe\">\n",
       "  <thead>\n",
       "    <tr style=\"text-align: right;\">\n",
       "      <th></th>\n",
       "      <th>year</th>\n",
       "      <th>age</th>\n",
       "      <th>logwage</th>\n",
       "      <th>wage</th>\n",
       "    </tr>\n",
       "  </thead>\n",
       "  <tbody>\n",
       "    <tr>\n",
       "      <th>count</th>\n",
       "      <td>3000.000000</td>\n",
       "      <td>3000.000000</td>\n",
       "      <td>3000.000000</td>\n",
       "      <td>3000.000000</td>\n",
       "    </tr>\n",
       "    <tr>\n",
       "      <th>mean</th>\n",
       "      <td>2005.791000</td>\n",
       "      <td>42.414667</td>\n",
       "      <td>4.653905</td>\n",
       "      <td>111.703608</td>\n",
       "    </tr>\n",
       "    <tr>\n",
       "      <th>std</th>\n",
       "      <td>2.026167</td>\n",
       "      <td>11.542406</td>\n",
       "      <td>0.351753</td>\n",
       "      <td>41.728595</td>\n",
       "    </tr>\n",
       "    <tr>\n",
       "      <th>min</th>\n",
       "      <td>2003.000000</td>\n",
       "      <td>18.000000</td>\n",
       "      <td>3.000000</td>\n",
       "      <td>20.085537</td>\n",
       "    </tr>\n",
       "    <tr>\n",
       "      <th>25%</th>\n",
       "      <td>2004.000000</td>\n",
       "      <td>33.750000</td>\n",
       "      <td>4.447158</td>\n",
       "      <td>85.383940</td>\n",
       "    </tr>\n",
       "    <tr>\n",
       "      <th>50%</th>\n",
       "      <td>2006.000000</td>\n",
       "      <td>42.000000</td>\n",
       "      <td>4.653213</td>\n",
       "      <td>104.921507</td>\n",
       "    </tr>\n",
       "    <tr>\n",
       "      <th>75%</th>\n",
       "      <td>2008.000000</td>\n",
       "      <td>51.000000</td>\n",
       "      <td>4.857332</td>\n",
       "      <td>128.680488</td>\n",
       "    </tr>\n",
       "    <tr>\n",
       "      <th>max</th>\n",
       "      <td>2009.000000</td>\n",
       "      <td>80.000000</td>\n",
       "      <td>5.763128</td>\n",
       "      <td>318.342430</td>\n",
       "    </tr>\n",
       "  </tbody>\n",
       "</table>\n",
       "</div>"
      ],
      "text/plain": [
       "              year          age      logwage         wage\n",
       "count  3000.000000  3000.000000  3000.000000  3000.000000\n",
       "mean   2005.791000    42.414667     4.653905   111.703608\n",
       "std       2.026167    11.542406     0.351753    41.728595\n",
       "min    2003.000000    18.000000     3.000000    20.085537\n",
       "25%    2004.000000    33.750000     4.447158    85.383940\n",
       "50%    2006.000000    42.000000     4.653213   104.921507\n",
       "75%    2008.000000    51.000000     4.857332   128.680488\n",
       "max    2009.000000    80.000000     5.763128   318.342430"
      ]
     },
     "execution_count": 6,
     "metadata": {},
     "output_type": "execute_result"
    }
   ],
   "source": [
    "wage.describe()"
   ]
  },
  {
   "cell_type": "markdown",
   "metadata": {},
   "source": [
    "## 7.8.1 Polynomial Regression and Step Functions\n",
    "\n",
    "Create polynomials for \"age\" feature to determine whether an individual earns > $250k per year."
   ]
  },
  {
   "cell_type": "code",
   "execution_count": 7,
   "metadata": {},
   "outputs": [
    {
     "name": "stdout",
     "output_type": "stream",
     "text": [
      "x4:\n",
      " [[1.000000e+00 1.800000e+01 3.240000e+02 5.832000e+03 1.049760e+05]\n",
      " [1.000000e+00 2.400000e+01 5.760000e+02 1.382400e+04 3.317760e+05]\n",
      " [1.000000e+00 4.500000e+01 2.025000e+03 9.112500e+04 4.100625e+06]\n",
      " [1.000000e+00 4.300000e+01 1.849000e+03 7.950700e+04 3.418801e+06]\n",
      " [1.000000e+00 5.000000e+01 2.500000e+03 1.250000e+05 6.250000e+06]]\n",
      "y:\n",
      " [0 0 0 0 0]\n"
     ]
    }
   ],
   "source": [
    "# Transform \"age\" feature.\n",
    "age_arr = wage['age'].values.reshape(-1,1)\n",
    "\n",
    "x1 = PolynomialFeatures(degree=1).fit_transform(age_arr)\n",
    "x2 = PolynomialFeatures(degree=2).fit_transform(age_arr)\n",
    "x3 = PolynomialFeatures(degree=3).fit_transform(age_arr)\n",
    "x4 = PolynomialFeatures(degree=4).fit_transform(age_arr)\n",
    "x5 = PolynomialFeatures(degree=5).fit_transform(age_arr)\n",
    "\n",
    "# create binary classification on the fly\n",
    "y = (wage['wage'] > 250).map({False: 0, True: 1}).values\n",
    "\n",
    "# Check values\n",
    "print('x4:\\n', x4[:5])\n",
    "print('y:\\n', y[:5])"
   ]
  },
  {
   "cell_type": "markdown",
   "metadata": {},
   "source": [
    "#### Linear Regression Model (Degree 4)"
   ]
  },
  {
   "cell_type": "code",
   "execution_count": 8,
   "metadata": {},
   "outputs": [
    {
     "data": {
      "text/html": [
       "<table class=\"simpletable\">\n",
       "<tr>\n",
       "    <td></td>       <th>coef</th>     <th>std err</th>      <th>t</th>      <th>P>|t|</th>  <th>[0.025</th>    <th>0.975]</th>  \n",
       "</tr>\n",
       "<tr>\n",
       "  <th>const</th> <td> -184.1542</td> <td>   60.040</td> <td>   -3.067</td> <td> 0.002</td> <td> -301.879</td> <td>  -66.430</td>\n",
       "</tr>\n",
       "<tr>\n",
       "  <th>x1</th>    <td>   21.2455</td> <td>    5.887</td> <td>    3.609</td> <td> 0.000</td> <td>    9.703</td> <td>   32.788</td>\n",
       "</tr>\n",
       "<tr>\n",
       "  <th>x2</th>    <td>   -0.5639</td> <td>    0.206</td> <td>   -2.736</td> <td> 0.006</td> <td>   -0.968</td> <td>   -0.160</td>\n",
       "</tr>\n",
       "<tr>\n",
       "  <th>x3</th>    <td>    0.0068</td> <td>    0.003</td> <td>    2.221</td> <td> 0.026</td> <td>    0.001</td> <td>    0.013</td>\n",
       "</tr>\n",
       "<tr>\n",
       "  <th>x4</th>    <td>-3.204e-05</td> <td> 1.64e-05</td> <td>   -1.952</td> <td> 0.051</td> <td>-6.42e-05</td> <td> 1.45e-07</td>\n",
       "</tr>\n",
       "</table>"
      ],
      "text/plain": [
       "<class 'statsmodels.iolib.table.SimpleTable'>"
      ]
     },
     "execution_count": 8,
     "metadata": {},
     "output_type": "execute_result"
    }
   ],
   "source": [
    "lin_reg_4 = sm.GLS(wage['wage'], x4).fit()\n",
    "lin_reg_4.summary().tables[1]"
   ]
  },
  {
   "cell_type": "markdown",
   "metadata": {},
   "source": [
    "#### Use ANOVA method to selecting a suitable degree for the polynomial of age.\n",
    "\n",
    "ANOVA = Analysis of Variance<br>\n",
    "Used to compare the mean of two or more groups.<br>\n",
    "Null Hypothesis: All groups' means are equal.<br>\n",
    "Alternative Hypothesis: At least one group's mean is not equal to the others.\n",
    "\n",
    "\n",
    "**ANOVA Assumptions**\n",
    " - Residuals (experimental error) are normally distributed (Shapiro-Wilks Test)\n",
    " - Homogeneity of variances (variances are equal between treatment groups) (Levene’s or Bartlett’s Test)\n",
    " - Observations are sampled independently from each other"
   ]
  },
  {
   "cell_type": "code",
   "execution_count": 9,
   "metadata": {},
   "outputs": [
    {
     "data": {
      "text/html": [
       "<div>\n",
       "<style scoped>\n",
       "    .dataframe tbody tr th:only-of-type {\n",
       "        vertical-align: middle;\n",
       "    }\n",
       "\n",
       "    .dataframe tbody tr th {\n",
       "        vertical-align: top;\n",
       "    }\n",
       "\n",
       "    .dataframe thead th {\n",
       "        text-align: right;\n",
       "    }\n",
       "</style>\n",
       "<table border=\"1\" class=\"dataframe\">\n",
       "  <thead>\n",
       "    <tr style=\"text-align: right;\">\n",
       "      <th></th>\n",
       "      <th>df_resid</th>\n",
       "      <th>ssr</th>\n",
       "      <th>df_diff</th>\n",
       "      <th>ss_diff</th>\n",
       "      <th>F</th>\n",
       "      <th>Pr(&gt;F)</th>\n",
       "    </tr>\n",
       "  </thead>\n",
       "  <tbody>\n",
       "    <tr>\n",
       "      <th>0</th>\n",
       "      <td>2998.0</td>\n",
       "      <td>5.022216e+06</td>\n",
       "      <td>0.0</td>\n",
       "      <td>NaN</td>\n",
       "      <td>NaN</td>\n",
       "      <td>NaN</td>\n",
       "    </tr>\n",
       "    <tr>\n",
       "      <th>1</th>\n",
       "      <td>2997.0</td>\n",
       "      <td>4.793430e+06</td>\n",
       "      <td>1.0</td>\n",
       "      <td>228786.010128</td>\n",
       "      <td>143.593107</td>\n",
       "      <td>2.363850e-32</td>\n",
       "    </tr>\n",
       "    <tr>\n",
       "      <th>2</th>\n",
       "      <td>2996.0</td>\n",
       "      <td>4.777674e+06</td>\n",
       "      <td>1.0</td>\n",
       "      <td>15755.693664</td>\n",
       "      <td>9.888756</td>\n",
       "      <td>1.679202e-03</td>\n",
       "    </tr>\n",
       "    <tr>\n",
       "      <th>3</th>\n",
       "      <td>2995.0</td>\n",
       "      <td>4.771604e+06</td>\n",
       "      <td>1.0</td>\n",
       "      <td>6070.152124</td>\n",
       "      <td>3.809813</td>\n",
       "      <td>5.104620e-02</td>\n",
       "    </tr>\n",
       "    <tr>\n",
       "      <th>4</th>\n",
       "      <td>2994.0</td>\n",
       "      <td>4.770322e+06</td>\n",
       "      <td>1.0</td>\n",
       "      <td>1282.563017</td>\n",
       "      <td>0.804976</td>\n",
       "      <td>3.696820e-01</td>\n",
       "    </tr>\n",
       "  </tbody>\n",
       "</table>\n",
       "</div>"
      ],
      "text/plain": [
       "   df_resid           ssr  df_diff        ss_diff           F        Pr(>F)\n",
       "0    2998.0  5.022216e+06      0.0            NaN         NaN           NaN\n",
       "1    2997.0  4.793430e+06      1.0  228786.010128  143.593107  2.363850e-32\n",
       "2    2996.0  4.777674e+06      1.0   15755.693664    9.888756  1.679202e-03\n",
       "3    2995.0  4.771604e+06      1.0    6070.152124    3.809813  5.104620e-02\n",
       "4    2994.0  4.770322e+06      1.0    1282.563017    0.804976  3.696820e-01"
      ]
     },
     "execution_count": 9,
     "metadata": {},
     "output_type": "execute_result"
    }
   ],
   "source": [
    "fit_1 = sm.GLS(wage['wage'], x1).fit()\n",
    "fit_2 = sm.GLS(wage['wage'], x2).fit()\n",
    "fit_3 = sm.GLS(wage['wage'], x3).fit()\n",
    "fit_4 = sm.GLS(wage['wage'], x4).fit()\n",
    "fit_5 = sm.GLS(wage['wage'], x5).fit()\n",
    "\n",
    "sm.stats.anova_lm(fit_1, fit_2, fit_3, fit_4, fit_5, typ=1)"
   ]
  },
  {
   "cell_type": "markdown",
   "metadata": {},
   "source": [
    "According to Warmenhoven, the polynomial degree 4 performs the best."
   ]
  },
  {
   "cell_type": "code",
   "execution_count": 10,
   "metadata": {},
   "outputs": [],
   "source": [
    "X = x4"
   ]
  },
  {
   "cell_type": "markdown",
   "metadata": {},
   "source": [
    "Scikit-learn implements a regularized logistic regression model, well suited for high dimensional data. Since there is only one feature - i.e. age - I am using the GLM model from the statsmodels package."
   ]
  },
  {
   "cell_type": "code",
   "execution_count": 11,
   "metadata": {},
   "outputs": [],
   "source": [
    "log_reg = sm.GLM(y, X, family=sm.families.Binomial())\n",
    "results = log_reg.fit()"
   ]
  },
  {
   "cell_type": "markdown",
   "metadata": {},
   "source": [
    "Create an array of test data. Transform to polynomial degree 4 and run prediction."
   ]
  },
  {
   "cell_type": "code",
   "execution_count": 12,
   "metadata": {},
   "outputs": [],
   "source": [
    "age_grid = np.arange(wage['age'].min(), wage['age'].max()).reshape(-1, 1)\n",
    "\n",
    "X_test = PolynomialFeatures(4).fit_transform(age_grid)\n",
    "y_pred = results.predict(X_test)"
   ]
  },
  {
   "cell_type": "code",
   "execution_count": 13,
   "metadata": {},
   "outputs": [
    {
     "ename": "SyntaxError",
     "evalue": "invalid syntax (<ipython-input-13-7f1dc191e4eb>, line 5)",
     "output_type": "error",
     "traceback": [
      "\u001b[1;36m  File \u001b[1;32m\"<ipython-input-13-7f1dc191e4eb>\"\u001b[1;36m, line \u001b[1;32m5\u001b[0m\n\u001b[1;33m    ax1.scatter(wage['age'], wage['wage'], facecolor='None', edgecolor='k', alpha=0.3)cd O\u001b[0m\n\u001b[1;37m                                                                                       ^\u001b[0m\n\u001b[1;31mSyntaxError\u001b[0m\u001b[1;31m:\u001b[0m invalid syntax\n"
     ]
    }
   ],
   "source": [
    "fig, (ax1, ax2) = plt.subplots(1, 2, figsize=(14,6))\n",
    "fig.suptitle('Degree-4 Polynomial', fontsize=16)\n",
    "\n",
    "# scatter plot with polynomial regression line\n",
    "ax1.scatter(wage['age'], wage['wage'], facecolor='None', edgecolor='k', alpha=0.3)cd O\n",
    "# if order > 1, use polynomial fit.\n",
    "sns.regplot(wage['age'], wage['wage'], order=4, truncate=True, scatter=False, ax=ax1)\n",
    "ax1.set_ylim(ymin=0)\n",
    "\n",
    "# logistic regression showing P(wage > 250) for age range\n",
    "ax2.plot(age_grid, y_pred, color='b')\n",
    "\n",
    "# Rug plot showing the distribution of wage > 250 in the TRAINING data.\n",
    "# TRUE on the top. \n",
    "# FALSE on the bottom.\n",
    "ax2.scatter(wage['age'], y/5, s=30, c='grey', marker='|', alpha=0.7)\n",
    "\n",
    "ax2.set_ylim(-0.01, 0.21)\n",
    "ax2.set_xlabel('age')\n",
    "ax2.set_ylabel('P(wage > 250 | age)');"
   ]
  },
  {
   "cell_type": "markdown",
   "metadata": {},
   "source": [
    "### Step Function"
   ]
  },
  {
   "cell_type": "code",
   "execution_count": 14,
   "metadata": {},
   "outputs": [
    {
     "data": {
      "text/plain": [
       "(17.938, 33.5]     750\n",
       "(33.5, 49.0]      1399\n",
       "(49.0, 64.5]       779\n",
       "(64.5, 80.0]        72\n",
       "Name: age, dtype: int64"
      ]
     },
     "execution_count": 14,
     "metadata": {},
     "output_type": "execute_result"
    }
   ],
   "source": [
    "wage_cut, bins = pd.cut(wage['age'], 4, retbins=True, right=True)\n",
    "wage_cut.value_counts(sort=False)"
   ]
  },
  {
   "cell_type": "code",
   "execution_count": 15,
   "metadata": {},
   "outputs": [
    {
     "data": {
      "text/html": [
       "<div>\n",
       "<style scoped>\n",
       "    .dataframe tbody tr th:only-of-type {\n",
       "        vertical-align: middle;\n",
       "    }\n",
       "\n",
       "    .dataframe tbody tr th {\n",
       "        vertical-align: top;\n",
       "    }\n",
       "\n",
       "    .dataframe thead th {\n",
       "        text-align: right;\n",
       "    }\n",
       "</style>\n",
       "<table border=\"1\" class=\"dataframe\">\n",
       "  <thead>\n",
       "    <tr style=\"text-align: right;\">\n",
       "      <th></th>\n",
       "      <th>age</th>\n",
       "      <th>age_bins</th>\n",
       "      <th>wage</th>\n",
       "    </tr>\n",
       "  </thead>\n",
       "  <tbody>\n",
       "    <tr>\n",
       "      <th>231655</th>\n",
       "      <td>18</td>\n",
       "      <td>(17.938, 33.5]</td>\n",
       "      <td>75.043154</td>\n",
       "    </tr>\n",
       "    <tr>\n",
       "      <th>86582</th>\n",
       "      <td>24</td>\n",
       "      <td>(17.938, 33.5]</td>\n",
       "      <td>70.476020</td>\n",
       "    </tr>\n",
       "    <tr>\n",
       "      <th>161300</th>\n",
       "      <td>45</td>\n",
       "      <td>(33.5, 49.0]</td>\n",
       "      <td>130.982177</td>\n",
       "    </tr>\n",
       "    <tr>\n",
       "      <th>155159</th>\n",
       "      <td>43</td>\n",
       "      <td>(33.5, 49.0]</td>\n",
       "      <td>154.685293</td>\n",
       "    </tr>\n",
       "    <tr>\n",
       "      <th>11443</th>\n",
       "      <td>50</td>\n",
       "      <td>(49.0, 64.5]</td>\n",
       "      <td>75.043154</td>\n",
       "    </tr>\n",
       "  </tbody>\n",
       "</table>\n",
       "</div>"
      ],
      "text/plain": [
       "        age        age_bins        wage\n",
       "231655   18  (17.938, 33.5]   75.043154\n",
       "86582    24  (17.938, 33.5]   70.476020\n",
       "161300   45    (33.5, 49.0]  130.982177\n",
       "155159   43    (33.5, 49.0]  154.685293\n",
       "11443    50    (49.0, 64.5]   75.043154"
      ]
     },
     "execution_count": 15,
     "metadata": {},
     "output_type": "execute_result"
    }
   ],
   "source": [
    "wage_steps = pd.concat([wage['age'], wage_cut, wage['wage']], keys=['age', 'age_bins', 'wage'], axis=1)\n",
    "wage_steps.head()"
   ]
  },
  {
   "cell_type": "code",
   "execution_count": 16,
   "metadata": {},
   "outputs": [
    {
     "data": {
      "text/html": [
       "<div>\n",
       "<style scoped>\n",
       "    .dataframe tbody tr th:only-of-type {\n",
       "        vertical-align: middle;\n",
       "    }\n",
       "\n",
       "    .dataframe tbody tr th {\n",
       "        vertical-align: top;\n",
       "    }\n",
       "\n",
       "    .dataframe thead th {\n",
       "        text-align: right;\n",
       "    }\n",
       "</style>\n",
       "<table border=\"1\" class=\"dataframe\">\n",
       "  <thead>\n",
       "    <tr style=\"text-align: right;\">\n",
       "      <th></th>\n",
       "      <th>const</th>\n",
       "      <th>(17.938, 33.5]</th>\n",
       "      <th>(33.5, 49.0]</th>\n",
       "      <th>(49.0, 64.5]</th>\n",
       "      <th>(64.5, 80.0]</th>\n",
       "    </tr>\n",
       "  </thead>\n",
       "  <tbody>\n",
       "    <tr>\n",
       "      <th>231655</th>\n",
       "      <td>1.0</td>\n",
       "      <td>1</td>\n",
       "      <td>0</td>\n",
       "      <td>0</td>\n",
       "      <td>0</td>\n",
       "    </tr>\n",
       "    <tr>\n",
       "      <th>86582</th>\n",
       "      <td>1.0</td>\n",
       "      <td>1</td>\n",
       "      <td>0</td>\n",
       "      <td>0</td>\n",
       "      <td>0</td>\n",
       "    </tr>\n",
       "    <tr>\n",
       "      <th>161300</th>\n",
       "      <td>1.0</td>\n",
       "      <td>0</td>\n",
       "      <td>1</td>\n",
       "      <td>0</td>\n",
       "      <td>0</td>\n",
       "    </tr>\n",
       "    <tr>\n",
       "      <th>155159</th>\n",
       "      <td>1.0</td>\n",
       "      <td>0</td>\n",
       "      <td>1</td>\n",
       "      <td>0</td>\n",
       "      <td>0</td>\n",
       "    </tr>\n",
       "    <tr>\n",
       "      <th>11443</th>\n",
       "      <td>1.0</td>\n",
       "      <td>0</td>\n",
       "      <td>0</td>\n",
       "      <td>1</td>\n",
       "      <td>0</td>\n",
       "    </tr>\n",
       "  </tbody>\n",
       "</table>\n",
       "</div>"
      ],
      "text/plain": [
       "        const  (17.938, 33.5]  (33.5, 49.0]  (49.0, 64.5]  (64.5, 80.0]\n",
       "231655    1.0               1             0             0             0\n",
       "86582     1.0               1             0             0             0\n",
       "161300    1.0               0             1             0             0\n",
       "155159    1.0               0             1             0             0\n",
       "11443     1.0               0             0             1             0"
      ]
     },
     "execution_count": 16,
     "metadata": {},
     "output_type": "execute_result"
    }
   ],
   "source": [
    "# create dummy groups for the age bins.\n",
    "age_bins_dummies = pd.get_dummies(wage_steps['age_bins'])\n",
    "\n",
    "# Statsmodels requires explicitly adding a constant/intercept.\n",
    "age_bins_dummies = sm.add_constant(age_bins_dummies)\n",
    "\n",
    "age_bins_dummies.head()"
   ]
  },
  {
   "cell_type": "code",
   "execution_count": 17,
   "metadata": {},
   "outputs": [
    {
     "data": {
      "text/html": [
       "<table class=\"simpletable\">\n",
       "<tr>\n",
       "        <td></td>          <th>coef</th>     <th>std err</th>      <th>z</th>      <th>P>|z|</th>  <th>[0.025</th>    <th>0.975]</th>  \n",
       "</tr>\n",
       "<tr>\n",
       "  <th>const</th>        <td>   94.1584</td> <td>    1.476</td> <td>   63.790</td> <td> 0.000</td> <td>   91.265</td> <td>   97.051</td>\n",
       "</tr>\n",
       "<tr>\n",
       "  <th>(33.5, 49.0]</th> <td>   24.0535</td> <td>    1.829</td> <td>   13.148</td> <td> 0.000</td> <td>   20.468</td> <td>   27.639</td>\n",
       "</tr>\n",
       "<tr>\n",
       "  <th>(49.0, 64.5]</th> <td>   23.6646</td> <td>    2.068</td> <td>   11.443</td> <td> 0.000</td> <td>   19.611</td> <td>   27.718</td>\n",
       "</tr>\n",
       "<tr>\n",
       "  <th>(64.5, 80.0]</th> <td>    7.6406</td> <td>    4.987</td> <td>    1.532</td> <td> 0.126</td> <td>   -2.135</td> <td>   17.416</td>\n",
       "</tr>\n",
       "</table>"
      ],
      "text/plain": [
       "<class 'statsmodels.iolib.table.SimpleTable'>"
      ]
     },
     "execution_count": 17,
     "metadata": {},
     "output_type": "execute_result"
    }
   ],
   "source": [
    "# Statsmodels provides a more comprehensive output of coefficients.\n",
    "# Drop age bin #1. Age bin #1 is equal to constant and other age groups equaling zero.\n",
    "fit3 = sm.GLM(wage_steps['wage'], age_bins_dummies.drop(age_bins_dummies.columns[1], axis=1)).fit()\n",
    "fit3.summary().tables[1]"
   ]
  },
  {
   "cell_type": "code",
   "execution_count": 18,
   "metadata": {},
   "outputs": [
    {
     "data": {
      "text/plain": [
       "array([1, 1, 1, 1, 1, 1, 1, 1, 1, 1, 1, 1, 1, 1, 1, 1, 2, 2, 2, 2, 2, 2,\n",
       "       2, 2, 2, 2, 2, 2, 2, 2, 2, 3, 3, 3, 3, 3, 3, 3, 3, 3, 3, 3, 3, 3,\n",
       "       3, 3, 3, 4, 4, 4, 4, 4, 4, 4, 4, 4, 4, 4, 4, 4, 4, 4], dtype=int64)"
      ]
     },
     "execution_count": 18,
     "metadata": {},
     "output_type": "execute_result"
    }
   ],
   "source": [
    "# Put test data in the same bins as training data.\n",
    "bin_mapping = np.digitize(age_grid.ravel(), bins)\n",
    "bin_mapping"
   ]
  },
  {
   "cell_type": "code",
   "execution_count": 19,
   "metadata": {},
   "outputs": [
    {
     "data": {
      "text/html": [
       "<div>\n",
       "<style scoped>\n",
       "    .dataframe tbody tr th:only-of-type {\n",
       "        vertical-align: middle;\n",
       "    }\n",
       "\n",
       "    .dataframe tbody tr th {\n",
       "        vertical-align: top;\n",
       "    }\n",
       "\n",
       "    .dataframe thead th {\n",
       "        text-align: right;\n",
       "    }\n",
       "</style>\n",
       "<table border=\"1\" class=\"dataframe\">\n",
       "  <thead>\n",
       "    <tr style=\"text-align: right;\">\n",
       "      <th></th>\n",
       "      <th>const</th>\n",
       "      <th>2</th>\n",
       "      <th>3</th>\n",
       "      <th>4</th>\n",
       "    </tr>\n",
       "  </thead>\n",
       "  <tbody>\n",
       "    <tr>\n",
       "      <th>0</th>\n",
       "      <td>1.0</td>\n",
       "      <td>0</td>\n",
       "      <td>0</td>\n",
       "      <td>0</td>\n",
       "    </tr>\n",
       "    <tr>\n",
       "      <th>1</th>\n",
       "      <td>1.0</td>\n",
       "      <td>0</td>\n",
       "      <td>0</td>\n",
       "      <td>0</td>\n",
       "    </tr>\n",
       "    <tr>\n",
       "      <th>2</th>\n",
       "      <td>1.0</td>\n",
       "      <td>0</td>\n",
       "      <td>0</td>\n",
       "      <td>0</td>\n",
       "    </tr>\n",
       "    <tr>\n",
       "      <th>3</th>\n",
       "      <td>1.0</td>\n",
       "      <td>0</td>\n",
       "      <td>0</td>\n",
       "      <td>0</td>\n",
       "    </tr>\n",
       "    <tr>\n",
       "      <th>4</th>\n",
       "      <td>1.0</td>\n",
       "      <td>0</td>\n",
       "      <td>0</td>\n",
       "      <td>0</td>\n",
       "    </tr>\n",
       "  </tbody>\n",
       "</table>\n",
       "</div>"
      ],
      "text/plain": [
       "   const  2  3  4\n",
       "0    1.0  0  0  0\n",
       "1    1.0  0  0  0\n",
       "2    1.0  0  0  0\n",
       "3    1.0  0  0  0\n",
       "4    1.0  0  0  0"
      ]
     },
     "execution_count": 19,
     "metadata": {},
     "output_type": "execute_result"
    }
   ],
   "source": [
    "# get dummies. \n",
    "bin_mapping_dummies = pd.get_dummies(bin_mapping)\n",
    "# drop first dummy category. add constant.\n",
    "X_test_2 = sm.add_constant(bin_mapping_dummies.drop(1, axis=1))\n",
    "X_test_2.head()"
   ]
  },
  {
   "cell_type": "markdown",
   "metadata": {},
   "source": [
    "#### Linear Regression"
   ]
  },
  {
   "cell_type": "code",
   "execution_count": 20,
   "metadata": {},
   "outputs": [],
   "source": [
    "y_pred_2 = fit3.predict(X_test_2)"
   ]
  },
  {
   "cell_type": "markdown",
   "metadata": {},
   "source": [
    "#### Logistic Regression"
   ]
  },
  {
   "cell_type": "code",
   "execution_count": 21,
   "metadata": {},
   "outputs": [],
   "source": [
    "log_reg_2 = sm.GLM(y, age_bins_dummies.drop(age_bins_dummies.columns[1], axis=1),\n",
    "                  family=sm.families.Binomial())\n",
    "results2 = log_reg_2.fit()\n",
    "y_pred_3 = results2.predict(X_test_2)"
   ]
  },
  {
   "cell_type": "markdown",
   "metadata": {},
   "source": [
    "### Figure 7.2"
   ]
  },
  {
   "cell_type": "code",
   "execution_count": 22,
   "metadata": {},
   "outputs": [
    {
     "data": {
      "image/png": "[encoded data removed]",
      "text/plain": [
       "<Figure size 1008x432 with 2 Axes>"
      ]
     },
     "metadata": {
      "needs_background": "light"
     },
     "output_type": "display_data"
    }
   ],
   "source": [
    "fig, (ax1, ax2) = plt.subplots(1, 2, figsize=(14,6))\n",
    "fig.suptitle('Piecewise Constant', fontsize=16)\n",
    "\n",
    "# Scatter plot with polynomial regression line\n",
    "ax1.scatter(wage['age'], wage['wage'], facecolor='None', edgecolor='k', alpha=0.3)\n",
    "ax1.plot(age_grid, y_pred_2, c='b', linewidth=4)\n",
    "\n",
    "ax1.set_xlabel('age')\n",
    "ax1.set_ylabel('wage')\n",
    "ax1.set_ylim(ymin=0)\n",
    "\n",
    "# Logistic regression showing P(wage > 250) for the age range.\n",
    "ax2.plot(np.arange(wage['age'].min(), wage['age'].max()).reshape(-1,1), y_pred_3, color='b')\n",
    "\n",
    "# Rug plot showing the distribution of wage > 250 in the TRAINING data.\n",
    "# TRUE on the top. \n",
    "# FALSE on the bottom.\n",
    "# y is divided by five for illustrative purposes.\n",
    "# Logistic regression predicted these individuals to be 1 or True.\n",
    "ax2.scatter(wage['age'], y/5, s=30, c='grey', marker='|', alpha=0.7)\n",
    "\n",
    "ax2.set_ylim(-0.01, 0.21)\n",
    "ax2.set_xlabel('age')\n",
    "ax2.set_ylabel('P(wage > 250 | age)');"
   ]
  },
  {
   "cell_type": "markdown",
   "metadata": {},
   "source": [
    "## 7.8.2 Regression Spline / Piecewise Polynomials\n",
    "\n",
    "Use **patsy** packarge to create non-linear transformations of the input data.\n",
    "\n",
    "Instead of fitting a constant function over different bins across the range of X, piecewise polynomial regression involves fitting separate low-degree polynomials over different regions of X. As we use lower degrees of polynomials, we don’t observe high oscillations of the curve around the data.\n",
    "\n",
    "Using more knots leads to a more flexible piecewise polynomial, as we use different functions for every bin. These functions depend only on the distribution of data of that particular bin. In general, if we place K different knots throughout the range of X, we will end up fitting K+1 different cubic polynomials. We can use any low degree polynomial to fit these individual bins.\n",
    "\n",
    "**Factors to Keep An Eye On:**\n",
    " - Avoid models that produce lines that are **NOT** continuous at the end of each knot. The family of polynomials should generate a unique output for every input. To resolve problem, add an extra/constraint that the polynomials on either side of a knot should be continuous.\n",
    " \n",
    " - Smoothness is required at the end of each knots. To smoothen the polynomials at the knots, add an extra constraint/condition that **the first derivative of both the polynomials must be equal.\"\n",
    " \n",
    " \n",
    "**Each constraint that is imposed on the piecewise polynomial effectively frees up one degree of freedom b/c we reduce the complexity of the resulting piecewise polynomial fit.**\n",
    "\n",
    "Requiring that the second derivatives of all the polynomials where they connect must be same improves the smoothness and generalization.\n",
    "\n",
    "#### Cubic and Natural Cubic Splines\n",
    "A cubic spline is a piecewise polynomial with a set of extra constraints (continuity, continuity of the first derivative, and continuity of the second derivative). "
   ]
  },
  {
   "cell_type": "code",
   "execution_count": 27,
   "metadata": {},
   "outputs": [],
   "source": [
    "X = wage['age'].values\n",
    "y = wage['wage'].values\n",
    "\n",
    "X_train, X_test, y_train, y_test = train_test_split(X, y, test_size=0.20, random_state=3)"
   ]
  },
  {
   "cell_type": "code",
   "execution_count": 38,
   "metadata": {},
   "outputs": [
    {
     "data": {
      "text/plain": [
       "Intercept                                                              61.160469\n",
       "bs(train, knots=(25, 40, 60), degree=3, include_intercept=False)[0]     1.645776\n",
       "bs(train, knots=(25, 40, 60), degree=3, include_intercept=False)[1]    45.842507\n",
       "bs(train, knots=(25, 40, 60), degree=3, include_intercept=False)[2]    59.996528\n",
       "bs(train, knots=(25, 40, 60), degree=3, include_intercept=False)[3]    59.026947\n",
       "bs(train, knots=(25, 40, 60), degree=3, include_intercept=False)[4]    46.305658\n",
       "bs(train, knots=(25, 40, 60), degree=3, include_intercept=False)[5]    25.008626\n",
       "dtype: float64"
      ]
     },
     "execution_count": 38,
     "metadata": {},
     "output_type": "execute_result"
    }
   ],
   "source": [
    "# Generate cubic spline with 3 knots at 25, 40, and 60 years of age\n",
    "X_transformed = dmatrix(\"bs(train, knots=(25, 40, 60), degree=3, include_intercept=False)\",\n",
    "                       {\"train\": X_train}, return_type='dataframe')\n",
    "\n",
    "fit1 = sm.GLM(y_train, X_transformed).fit()\n",
    "pred1 = fit1.predict(dmatrix(\"bs(test, knots=(25,40,60), include_intercept=False)\", {\"test\": X_test}, return_type='dataframe'))\n",
    "\n",
    "\n",
    "rmse1 = np.sqrt(mean_squared_error(y_test, pred1))\n",
    "fit1.params"
   ]
  },
  {
   "cell_type": "code",
   "execution_count": 37,
   "metadata": {},
   "outputs": [
    {
     "ename": "PatsyError",
     "evalue": "Error evaluating factor: NameError: name 'train' is not defined\n    bs(train, df=6, degree=3, include_intercept=False)\n    ^^^^^^^^^^^^^^^^^^^^^^^^^^^^^^^^^^^^^^^^^^^^^^^^^^",
     "output_type": "error",
     "traceback": [
      "\u001b[1;31m---------------------------------------------------------------------------\u001b[0m",
      "\u001b[1;31mNameError\u001b[0m                                 Traceback (most recent call last)",
      "\u001b[1;32m~\\anaconda3\\lib\\site-packages\\patsy\\compat.py\u001b[0m in \u001b[0;36mcall_and_wrap_exc\u001b[1;34m(msg, origin, f, *args, **kwargs)\u001b[0m\n\u001b[0;32m     35\u001b[0m     \u001b[1;32mtry\u001b[0m\u001b[1;33m:\u001b[0m\u001b[1;33m\u001b[0m\u001b[1;33m\u001b[0m\u001b[0m\n\u001b[1;32m---> 36\u001b[1;33m         \u001b[1;32mreturn\u001b[0m \u001b[0mf\u001b[0m\u001b[1;33m(\u001b[0m\u001b[1;33m*\u001b[0m\u001b[0margs\u001b[0m\u001b[1;33m,\u001b[0m \u001b[1;33m**\u001b[0m\u001b[0mkwargs\u001b[0m\u001b[1;33m)\u001b[0m\u001b[1;33m\u001b[0m\u001b[1;33m\u001b[0m\u001b[0m\n\u001b[0m\u001b[0;32m     37\u001b[0m     \u001b[1;32mexcept\u001b[0m \u001b[0mException\u001b[0m \u001b[1;32mas\u001b[0m \u001b[0me\u001b[0m\u001b[1;33m:\u001b[0m\u001b[1;33m\u001b[0m\u001b[1;33m\u001b[0m\u001b[0m\n",
      "\u001b[1;32m~\\anaconda3\\lib\\site-packages\\patsy\\eval.py\u001b[0m in \u001b[0;36meval\u001b[1;34m(self, expr, source_name, inner_namespace)\u001b[0m\n\u001b[0;32m    165\u001b[0m         return eval(code, {}, VarLookupDict([inner_namespace]\n\u001b[1;32m--> 166\u001b[1;33m                                             + self._namespaces))\n\u001b[0m\u001b[0;32m    167\u001b[0m \u001b[1;33m\u001b[0m\u001b[0m\n",
      "\u001b[1;32m<string>\u001b[0m in \u001b[0;36m<module>\u001b[1;34m\u001b[0m\n",
      "\u001b[1;31mNameError\u001b[0m: name 'train' is not defined",
      "\nThe above exception was the direct cause of the following exception:\n",
      "\u001b[1;31mPatsyError\u001b[0m                                Traceback (most recent call last)",
      "\u001b[1;32m<ipython-input-37-d9c842302df4>\u001b[0m in \u001b[0;36m<module>\u001b[1;34m\u001b[0m\n\u001b[0;32m      4\u001b[0m \u001b[0mfit2\u001b[0m \u001b[1;33m=\u001b[0m \u001b[0msm\u001b[0m\u001b[1;33m.\u001b[0m\u001b[0mGLM\u001b[0m\u001b[1;33m(\u001b[0m\u001b[0my_train\u001b[0m\u001b[1;33m,\u001b[0m \u001b[0mX2_transformed\u001b[0m\u001b[1;33m)\u001b[0m\u001b[1;33m.\u001b[0m\u001b[0mfit\u001b[0m\u001b[1;33m(\u001b[0m\u001b[1;33m)\u001b[0m\u001b[1;33m\u001b[0m\u001b[1;33m\u001b[0m\u001b[0m\n\u001b[0;32m      5\u001b[0m pred2 = fit2.predict(dmatrix(\"bs(train, df=6, degree=3, include_intercept=False)\",\n\u001b[1;32m----> 6\u001b[1;33m                              {\"test\": X_test}, return_type='dataframe'))\n\u001b[0m\u001b[0;32m      7\u001b[0m \u001b[1;33m\u001b[0m\u001b[0m\n\u001b[0;32m      8\u001b[0m \u001b[1;33m\u001b[0m\u001b[0m\n",
      "\u001b[1;32m~\\anaconda3\\lib\\site-packages\\patsy\\highlevel.py\u001b[0m in \u001b[0;36mdmatrix\u001b[1;34m(formula_like, data, eval_env, NA_action, return_type)\u001b[0m\n\u001b[0;32m    289\u001b[0m     \u001b[0meval_env\u001b[0m \u001b[1;33m=\u001b[0m \u001b[0mEvalEnvironment\u001b[0m\u001b[1;33m.\u001b[0m\u001b[0mcapture\u001b[0m\u001b[1;33m(\u001b[0m\u001b[0meval_env\u001b[0m\u001b[1;33m,\u001b[0m \u001b[0mreference\u001b[0m\u001b[1;33m=\u001b[0m\u001b[1;36m1\u001b[0m\u001b[1;33m)\u001b[0m\u001b[1;33m\u001b[0m\u001b[1;33m\u001b[0m\u001b[0m\n\u001b[0;32m    290\u001b[0m     (lhs, rhs) = _do_highlevel_design(formula_like, data, eval_env,\n\u001b[1;32m--> 291\u001b[1;33m                                       NA_action, return_type)\n\u001b[0m\u001b[0;32m    292\u001b[0m     \u001b[1;32mif\u001b[0m \u001b[0mlhs\u001b[0m\u001b[1;33m.\u001b[0m\u001b[0mshape\u001b[0m\u001b[1;33m[\u001b[0m\u001b[1;36m1\u001b[0m\u001b[1;33m]\u001b[0m \u001b[1;33m!=\u001b[0m \u001b[1;36m0\u001b[0m\u001b[1;33m:\u001b[0m\u001b[1;33m\u001b[0m\u001b[1;33m\u001b[0m\u001b[0m\n\u001b[0;32m    293\u001b[0m         raise PatsyError(\"encountered outcome variables for a model \"\n",
      "\u001b[1;32m~\\anaconda3\\lib\\site-packages\\patsy\\highlevel.py\u001b[0m in \u001b[0;36m_do_highlevel_design\u001b[1;34m(formula_like, data, eval_env, NA_action, return_type)\u001b[0m\n\u001b[0;32m    163\u001b[0m         \u001b[1;32mreturn\u001b[0m \u001b[0miter\u001b[0m\u001b[1;33m(\u001b[0m\u001b[1;33m[\u001b[0m\u001b[0mdata\u001b[0m\u001b[1;33m]\u001b[0m\u001b[1;33m)\u001b[0m\u001b[1;33m\u001b[0m\u001b[1;33m\u001b[0m\u001b[0m\n\u001b[0;32m    164\u001b[0m     design_infos = _try_incr_builders(formula_like, data_iter_maker, eval_env,\n\u001b[1;32m--> 165\u001b[1;33m                                       NA_action)\n\u001b[0m\u001b[0;32m    166\u001b[0m     \u001b[1;32mif\u001b[0m \u001b[0mdesign_infos\u001b[0m \u001b[1;32mis\u001b[0m \u001b[1;32mnot\u001b[0m \u001b[1;32mNone\u001b[0m\u001b[1;33m:\u001b[0m\u001b[1;33m\u001b[0m\u001b[1;33m\u001b[0m\u001b[0m\n\u001b[0;32m    167\u001b[0m         return build_design_matrices(design_infos, data,\n",
      "\u001b[1;32m~\\anaconda3\\lib\\site-packages\\patsy\\highlevel.py\u001b[0m in \u001b[0;36m_try_incr_builders\u001b[1;34m(formula_like, data_iter_maker, eval_env, NA_action)\u001b[0m\n\u001b[0;32m     68\u001b[0m                                       \u001b[0mdata_iter_maker\u001b[0m\u001b[1;33m,\u001b[0m\u001b[1;33m\u001b[0m\u001b[1;33m\u001b[0m\u001b[0m\n\u001b[0;32m     69\u001b[0m                                       \u001b[0meval_env\u001b[0m\u001b[1;33m,\u001b[0m\u001b[1;33m\u001b[0m\u001b[1;33m\u001b[0m\u001b[0m\n\u001b[1;32m---> 70\u001b[1;33m                                       NA_action)\n\u001b[0m\u001b[0;32m     71\u001b[0m     \u001b[1;32melse\u001b[0m\u001b[1;33m:\u001b[0m\u001b[1;33m\u001b[0m\u001b[1;33m\u001b[0m\u001b[0m\n\u001b[0;32m     72\u001b[0m         \u001b[1;32mreturn\u001b[0m \u001b[1;32mNone\u001b[0m\u001b[1;33m\u001b[0m\u001b[1;33m\u001b[0m\u001b[0m\n",
      "\u001b[1;32m~\\anaconda3\\lib\\site-packages\\patsy\\build.py\u001b[0m in \u001b[0;36mdesign_matrix_builders\u001b[1;34m(termlists, data_iter_maker, eval_env, NA_action)\u001b[0m\n\u001b[0;32m    687\u001b[0m         \u001b[1;32mfor\u001b[0m \u001b[0mterm\u001b[0m \u001b[1;32min\u001b[0m \u001b[0mtermlist\u001b[0m\u001b[1;33m:\u001b[0m\u001b[1;33m\u001b[0m\u001b[1;33m\u001b[0m\u001b[0m\n\u001b[0;32m    688\u001b[0m             \u001b[0mall_factors\u001b[0m\u001b[1;33m.\u001b[0m\u001b[0mupdate\u001b[0m\u001b[1;33m(\u001b[0m\u001b[0mterm\u001b[0m\u001b[1;33m.\u001b[0m\u001b[0mfactors\u001b[0m\u001b[1;33m)\u001b[0m\u001b[1;33m\u001b[0m\u001b[1;33m\u001b[0m\u001b[0m\n\u001b[1;32m--> 689\u001b[1;33m     \u001b[0mfactor_states\u001b[0m \u001b[1;33m=\u001b[0m \u001b[0m_factors_memorize\u001b[0m\u001b[1;33m(\u001b[0m\u001b[0mall_factors\u001b[0m\u001b[1;33m,\u001b[0m \u001b[0mdata_iter_maker\u001b[0m\u001b[1;33m,\u001b[0m \u001b[0meval_env\u001b[0m\u001b[1;33m)\u001b[0m\u001b[1;33m\u001b[0m\u001b[1;33m\u001b[0m\u001b[0m\n\u001b[0m\u001b[0;32m    690\u001b[0m     \u001b[1;31m# Now all the factors have working eval methods, so we can evaluate them\u001b[0m\u001b[1;33m\u001b[0m\u001b[1;33m\u001b[0m\u001b[1;33m\u001b[0m\u001b[0m\n\u001b[0;32m    691\u001b[0m     \u001b[1;31m# on some data to find out what type of data they return.\u001b[0m\u001b[1;33m\u001b[0m\u001b[1;33m\u001b[0m\u001b[1;33m\u001b[0m\u001b[0m\n",
      "\u001b[1;32m~\\anaconda3\\lib\\site-packages\\patsy\\build.py\u001b[0m in \u001b[0;36m_factors_memorize\u001b[1;34m(factors, data_iter_maker, eval_env)\u001b[0m\n\u001b[0;32m    366\u001b[0m             \u001b[1;32mfor\u001b[0m \u001b[0mfactor\u001b[0m \u001b[1;32min\u001b[0m \u001b[0mmemorize_needed\u001b[0m\u001b[1;33m:\u001b[0m\u001b[1;33m\u001b[0m\u001b[1;33m\u001b[0m\u001b[0m\n\u001b[0;32m    367\u001b[0m                 \u001b[0mstate\u001b[0m \u001b[1;33m=\u001b[0m \u001b[0mfactor_states\u001b[0m\u001b[1;33m[\u001b[0m\u001b[0mfactor\u001b[0m\u001b[1;33m]\u001b[0m\u001b[1;33m\u001b[0m\u001b[1;33m\u001b[0m\u001b[0m\n\u001b[1;32m--> 368\u001b[1;33m                 \u001b[0mfactor\u001b[0m\u001b[1;33m.\u001b[0m\u001b[0mmemorize_chunk\u001b[0m\u001b[1;33m(\u001b[0m\u001b[0mstate\u001b[0m\u001b[1;33m,\u001b[0m \u001b[0mwhich_pass\u001b[0m\u001b[1;33m,\u001b[0m \u001b[0mdata\u001b[0m\u001b[1;33m)\u001b[0m\u001b[1;33m\u001b[0m\u001b[1;33m\u001b[0m\u001b[0m\n\u001b[0m\u001b[0;32m    369\u001b[0m         \u001b[1;32mfor\u001b[0m \u001b[0mfactor\u001b[0m \u001b[1;32min\u001b[0m \u001b[0mlist\u001b[0m\u001b[1;33m(\u001b[0m\u001b[0mmemorize_needed\u001b[0m\u001b[1;33m)\u001b[0m\u001b[1;33m:\u001b[0m\u001b[1;33m\u001b[0m\u001b[1;33m\u001b[0m\u001b[0m\n\u001b[0;32m    370\u001b[0m             \u001b[0mfactor\u001b[0m\u001b[1;33m.\u001b[0m\u001b[0mmemorize_finish\u001b[0m\u001b[1;33m(\u001b[0m\u001b[0mfactor_states\u001b[0m\u001b[1;33m[\u001b[0m\u001b[0mfactor\u001b[0m\u001b[1;33m]\u001b[0m\u001b[1;33m,\u001b[0m \u001b[0mwhich_pass\u001b[0m\u001b[1;33m)\u001b[0m\u001b[1;33m\u001b[0m\u001b[1;33m\u001b[0m\u001b[0m\n",
      "\u001b[1;32m~\\anaconda3\\lib\\site-packages\\patsy\\eval.py\u001b[0m in \u001b[0;36mmemorize_chunk\u001b[1;34m(self, state, which_pass, data)\u001b[0m\n\u001b[0;32m    555\u001b[0m             self._eval(state[\"memorize_code\"][obj_name],\n\u001b[0;32m    556\u001b[0m                        \u001b[0mstate\u001b[0m\u001b[1;33m,\u001b[0m\u001b[1;33m\u001b[0m\u001b[1;33m\u001b[0m\u001b[0m\n\u001b[1;32m--> 557\u001b[1;33m                        data)\n\u001b[0m\u001b[0;32m    558\u001b[0m \u001b[1;33m\u001b[0m\u001b[0m\n\u001b[0;32m    559\u001b[0m     \u001b[1;32mdef\u001b[0m \u001b[0mmemorize_finish\u001b[0m\u001b[1;33m(\u001b[0m\u001b[0mself\u001b[0m\u001b[1;33m,\u001b[0m \u001b[0mstate\u001b[0m\u001b[1;33m,\u001b[0m \u001b[0mwhich_pass\u001b[0m\u001b[1;33m)\u001b[0m\u001b[1;33m:\u001b[0m\u001b[1;33m\u001b[0m\u001b[1;33m\u001b[0m\u001b[0m\n",
      "\u001b[1;32m~\\anaconda3\\lib\\site-packages\\patsy\\eval.py\u001b[0m in \u001b[0;36m_eval\u001b[1;34m(self, code, memorize_state, data)\u001b[0m\n\u001b[0;32m    549\u001b[0m                                  \u001b[0mmemorize_state\u001b[0m\u001b[1;33m[\u001b[0m\u001b[1;34m\"eval_env\"\u001b[0m\u001b[1;33m]\u001b[0m\u001b[1;33m.\u001b[0m\u001b[0meval\u001b[0m\u001b[1;33m,\u001b[0m\u001b[1;33m\u001b[0m\u001b[1;33m\u001b[0m\u001b[0m\n\u001b[0;32m    550\u001b[0m                                  \u001b[0mcode\u001b[0m\u001b[1;33m,\u001b[0m\u001b[1;33m\u001b[0m\u001b[1;33m\u001b[0m\u001b[0m\n\u001b[1;32m--> 551\u001b[1;33m                                  inner_namespace=inner_namespace)\n\u001b[0m\u001b[0;32m    552\u001b[0m \u001b[1;33m\u001b[0m\u001b[0m\n\u001b[0;32m    553\u001b[0m     \u001b[1;32mdef\u001b[0m \u001b[0mmemorize_chunk\u001b[0m\u001b[1;33m(\u001b[0m\u001b[0mself\u001b[0m\u001b[1;33m,\u001b[0m \u001b[0mstate\u001b[0m\u001b[1;33m,\u001b[0m \u001b[0mwhich_pass\u001b[0m\u001b[1;33m,\u001b[0m \u001b[0mdata\u001b[0m\u001b[1;33m)\u001b[0m\u001b[1;33m:\u001b[0m\u001b[1;33m\u001b[0m\u001b[1;33m\u001b[0m\u001b[0m\n",
      "\u001b[1;32m~\\anaconda3\\lib\\site-packages\\patsy\\compat.py\u001b[0m in \u001b[0;36mcall_and_wrap_exc\u001b[1;34m(msg, origin, f, *args, **kwargs)\u001b[0m\n\u001b[0;32m     41\u001b[0m                                  origin)\n\u001b[0;32m     42\u001b[0m             \u001b[1;31m# Use 'exec' to hide this syntax from the Python 2 parser:\u001b[0m\u001b[1;33m\u001b[0m\u001b[1;33m\u001b[0m\u001b[1;33m\u001b[0m\u001b[0m\n\u001b[1;32m---> 43\u001b[1;33m             \u001b[0mexec\u001b[0m\u001b[1;33m(\u001b[0m\u001b[1;34m\"raise new_exc from e\"\u001b[0m\u001b[1;33m)\u001b[0m\u001b[1;33m\u001b[0m\u001b[1;33m\u001b[0m\u001b[0m\n\u001b[0m\u001b[0;32m     44\u001b[0m         \u001b[1;32melse\u001b[0m\u001b[1;33m:\u001b[0m\u001b[1;33m\u001b[0m\u001b[1;33m\u001b[0m\u001b[0m\n\u001b[0;32m     45\u001b[0m             \u001b[1;31m# In python 2, we just let the original exception escape -- better\u001b[0m\u001b[1;33m\u001b[0m\u001b[1;33m\u001b[0m\u001b[1;33m\u001b[0m\u001b[0m\n",
      "\u001b[1;32m~\\anaconda3\\lib\\site-packages\\patsy\\compat.py\u001b[0m in \u001b[0;36m<module>\u001b[1;34m\u001b[0m\n",
      "\u001b[1;31mPatsyError\u001b[0m: Error evaluating factor: NameError: name 'train' is not defined\n    bs(train, df=6, degree=3, include_intercept=False)\n    ^^^^^^^^^^^^^^^^^^^^^^^^^^^^^^^^^^^^^^^^^^^^^^^^^^"
     ]
    }
   ],
   "source": [
    "X2_transformed = dmatrix(\"bs(X_train, df=6, degree=3, include_intercept=False)\",\n",
    "                        {\"X_train\": X_train}, return_type='dataframe')\n",
    "\n",
    "fit2 = sm.GLM(y_train, X2_transformed).fit()\n",
    "pred2 = fit2.predict(dmatrix(\"bs(train, df=6, degree=3, include_intercept=False)\",\n",
    "                             {\"test\": X_test}, return_type='dataframe'))\n",
    "\n",
    "\n",
    "rmse2 = np.sqrt(mean_squared_error(y_test, pred2))\n",
    "fit2.params"
   ]
  },
  {
   "cell_type": "code",
   "execution_count": 32,
   "metadata": {},
   "outputs": [
    {
     "data": {
      "text/html": [
       "<div>\n",
       "<style scoped>\n",
       "    .dataframe tbody tr th:only-of-type {\n",
       "        vertical-align: middle;\n",
       "    }\n",
       "\n",
       "    .dataframe tbody tr th {\n",
       "        vertical-align: top;\n",
       "    }\n",
       "\n",
       "    .dataframe thead th {\n",
       "        text-align: right;\n",
       "    }\n",
       "</style>\n",
       "<table border=\"1\" class=\"dataframe\">\n",
       "  <thead>\n",
       "    <tr style=\"text-align: right;\">\n",
       "      <th></th>\n",
       "      <th>Intercept</th>\n",
       "      <th>bs(train, knots=(25, 40, 60), degree=3, include_intercept=False)[0]</th>\n",
       "      <th>bs(train, knots=(25, 40, 60), degree=3, include_intercept=False)[1]</th>\n",
       "      <th>bs(train, knots=(25, 40, 60), degree=3, include_intercept=False)[2]</th>\n",
       "      <th>bs(train, knots=(25, 40, 60), degree=3, include_intercept=False)[3]</th>\n",
       "      <th>bs(train, knots=(25, 40, 60), degree=3, include_intercept=False)[4]</th>\n",
       "      <th>bs(train, knots=(25, 40, 60), degree=3, include_intercept=False)[5]</th>\n",
       "    </tr>\n",
       "  </thead>\n",
       "  <tbody>\n",
       "    <tr>\n",
       "      <th>0</th>\n",
       "      <td>1.0</td>\n",
       "      <td>0.000000</td>\n",
       "      <td>0.000000</td>\n",
       "      <td>0.022727</td>\n",
       "      <td>0.258523</td>\n",
       "      <td>0.593750</td>\n",
       "      <td>0.125</td>\n",
       "    </tr>\n",
       "    <tr>\n",
       "      <th>1</th>\n",
       "      <td>1.0</td>\n",
       "      <td>0.001102</td>\n",
       "      <td>0.359863</td>\n",
       "      <td>0.562949</td>\n",
       "      <td>0.076087</td>\n",
       "      <td>0.000000</td>\n",
       "      <td>0.000</td>\n",
       "    </tr>\n",
       "    <tr>\n",
       "      <th>2</th>\n",
       "      <td>1.0</td>\n",
       "      <td>0.000000</td>\n",
       "      <td>0.272109</td>\n",
       "      <td>0.611008</td>\n",
       "      <td>0.116883</td>\n",
       "      <td>0.000000</td>\n",
       "      <td>0.000</td>\n",
       "    </tr>\n",
       "    <tr>\n",
       "      <th>3</th>\n",
       "      <td>1.0</td>\n",
       "      <td>0.000000</td>\n",
       "      <td>0.034014</td>\n",
       "      <td>0.508194</td>\n",
       "      <td>0.426542</td>\n",
       "      <td>0.031250</td>\n",
       "      <td>0.000</td>\n",
       "    </tr>\n",
       "    <tr>\n",
       "      <th>4</th>\n",
       "      <td>1.0</td>\n",
       "      <td>0.000000</td>\n",
       "      <td>0.139320</td>\n",
       "      <td>0.628472</td>\n",
       "      <td>0.230208</td>\n",
       "      <td>0.002000</td>\n",
       "      <td>0.000</td>\n",
       "    </tr>\n",
       "    <tr>\n",
       "      <th>...</th>\n",
       "      <td>...</td>\n",
       "      <td>...</td>\n",
       "      <td>...</td>\n",
       "      <td>...</td>\n",
       "      <td>...</td>\n",
       "      <td>...</td>\n",
       "      <td>...</td>\n",
       "    </tr>\n",
       "    <tr>\n",
       "      <th>2395</th>\n",
       "      <td>1.0</td>\n",
       "      <td>0.000000</td>\n",
       "      <td>0.074728</td>\n",
       "      <td>0.585094</td>\n",
       "      <td>0.329460</td>\n",
       "      <td>0.010719</td>\n",
       "      <td>0.000</td>\n",
       "    </tr>\n",
       "    <tr>\n",
       "      <th>2396</th>\n",
       "      <td>1.0</td>\n",
       "      <td>0.000000</td>\n",
       "      <td>0.000918</td>\n",
       "      <td>0.273676</td>\n",
       "      <td>0.571875</td>\n",
       "      <td>0.153531</td>\n",
       "      <td>0.000</td>\n",
       "    </tr>\n",
       "    <tr>\n",
       "      <th>2397</th>\n",
       "      <td>1.0</td>\n",
       "      <td>0.000000</td>\n",
       "      <td>0.272109</td>\n",
       "      <td>0.611008</td>\n",
       "      <td>0.116883</td>\n",
       "      <td>0.000000</td>\n",
       "      <td>0.000</td>\n",
       "    </tr>\n",
       "    <tr>\n",
       "      <th>2398</th>\n",
       "      <td>1.0</td>\n",
       "      <td>0.070523</td>\n",
       "      <td>0.598567</td>\n",
       "      <td>0.319030</td>\n",
       "      <td>0.011879</td>\n",
       "      <td>0.000000</td>\n",
       "      <td>0.000</td>\n",
       "    </tr>\n",
       "    <tr>\n",
       "      <th>2399</th>\n",
       "      <td>1.0</td>\n",
       "      <td>0.000000</td>\n",
       "      <td>0.139320</td>\n",
       "      <td>0.628472</td>\n",
       "      <td>0.230208</td>\n",
       "      <td>0.002000</td>\n",
       "      <td>0.000</td>\n",
       "    </tr>\n",
       "  </tbody>\n",
       "</table>\n",
       "<p>2400 rows × 7 columns</p>\n",
       "</div>"
      ],
      "text/plain": [
       "      Intercept  \\\n",
       "0           1.0   \n",
       "1           1.0   \n",
       "2           1.0   \n",
       "3           1.0   \n",
       "4           1.0   \n",
       "...         ...   \n",
       "2395        1.0   \n",
       "2396        1.0   \n",
       "2397        1.0   \n",
       "2398        1.0   \n",
       "2399        1.0   \n",
       "\n",
       "      bs(train, knots=(25, 40, 60), degree=3, include_intercept=False)[0]  \\\n",
       "0                                              0.000000                     \n",
       "1                                              0.001102                     \n",
       "2                                              0.000000                     \n",
       "3                                              0.000000                     \n",
       "4                                              0.000000                     \n",
       "...                                                 ...                     \n",
       "2395                                           0.000000                     \n",
       "2396                                           0.000000                     \n",
       "2397                                           0.000000                     \n",
       "2398                                           0.070523                     \n",
       "2399                                           0.000000                     \n",
       "\n",
       "      bs(train, knots=(25, 40, 60), degree=3, include_intercept=False)[1]  \\\n",
       "0                                              0.000000                     \n",
       "1                                              0.359863                     \n",
       "2                                              0.272109                     \n",
       "3                                              0.034014                     \n",
       "4                                              0.139320                     \n",
       "...                                                 ...                     \n",
       "2395                                           0.074728                     \n",
       "2396                                           0.000918                     \n",
       "2397                                           0.272109                     \n",
       "2398                                           0.598567                     \n",
       "2399                                           0.139320                     \n",
       "\n",
       "      bs(train, knots=(25, 40, 60), degree=3, include_intercept=False)[2]  \\\n",
       "0                                              0.022727                     \n",
       "1                                              0.562949                     \n",
       "2                                              0.611008                     \n",
       "3                                              0.508194                     \n",
       "4                                              0.628472                     \n",
       "...                                                 ...                     \n",
       "2395                                           0.585094                     \n",
       "2396                                           0.273676                     \n",
       "2397                                           0.611008                     \n",
       "2398                                           0.319030                     \n",
       "2399                                           0.628472                     \n",
       "\n",
       "      bs(train, knots=(25, 40, 60), degree=3, include_intercept=False)[3]  \\\n",
       "0                                              0.258523                     \n",
       "1                                              0.076087                     \n",
       "2                                              0.116883                     \n",
       "3                                              0.426542                     \n",
       "4                                              0.230208                     \n",
       "...                                                 ...                     \n",
       "2395                                           0.329460                     \n",
       "2396                                           0.571875                     \n",
       "2397                                           0.116883                     \n",
       "2398                                           0.011879                     \n",
       "2399                                           0.230208                     \n",
       "\n",
       "      bs(train, knots=(25, 40, 60), degree=3, include_intercept=False)[4]  \\\n",
       "0                                              0.593750                     \n",
       "1                                              0.000000                     \n",
       "2                                              0.000000                     \n",
       "3                                              0.031250                     \n",
       "4                                              0.002000                     \n",
       "...                                                 ...                     \n",
       "2395                                           0.010719                     \n",
       "2396                                           0.153531                     \n",
       "2397                                           0.000000                     \n",
       "2398                                           0.000000                     \n",
       "2399                                           0.002000                     \n",
       "\n",
       "      bs(train, knots=(25, 40, 60), degree=3, include_intercept=False)[5]  \n",
       "0                                                 0.125                    \n",
       "1                                                 0.000                    \n",
       "2                                                 0.000                    \n",
       "3                                                 0.000                    \n",
       "4                                                 0.000                    \n",
       "...                                                 ...                    \n",
       "2395                                              0.000                    \n",
       "2396                                              0.000                    \n",
       "2397                                              0.000                    \n",
       "2398                                              0.000                    \n",
       "2399                                              0.000                    \n",
       "\n",
       "[2400 rows x 7 columns]"
      ]
     },
     "execution_count": 32,
     "metadata": {},
     "output_type": "execute_result"
    }
   ],
   "source": [
    "X_transformed"
   ]
  },
  {
   "cell_type": "code",
   "execution_count": null,
   "metadata": {},
   "outputs": [],
   "source": [
    "\n",
    "plt.scatter(X_test, y_test, facecolor='None', edgecolor='k', alpha=0.3)\n",
    "plt.plot(age_grid, pred4, color='b', label='Specifying three knots')\n",
    "plt.plot(age_grid, pred5, color='r', label='Specifying df=6')\n",
    "plt.plot(age_grid, pred6, color='g', label='Natural spline df=4')\n",
    "[plt.vlines(i , 0, 350, linestyles='dashed', lw=2, colors='b') for i in [25,40,60]]\n",
    "plt.legend(bbox_to_anchor=(1.5, 1.0))\n",
    "plt.xlim(15,85)\n",
    "plt.ylim(0,350)\n",
    "plt.xlabel('age')\n",
    "plt.ylabel('wage');"
   ]
  }
 ],
 "metadata": {
  "kernelspec": {
   "display_name": "Python 3",
   "language": "python",
   "name": "python3"
  },
  "language_info": {
   "codemirror_mode": {
    "name": "ipython",
    "version": 3
   },
   "file_extension": ".py",
   "mimetype": "text/x-python",
   "name": "python",
   "nbconvert_exporter": "python",
   "pygments_lexer": "ipython3",
   "version": "3.7.9"
  }
 },
 "nbformat": 4,
 "nbformat_minor": 4
}
