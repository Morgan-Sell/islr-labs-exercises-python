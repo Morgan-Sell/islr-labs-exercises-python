{
 "cells": [
  {
   "cell_type": "markdown",
   "metadata": {},
   "source": [
    "# Chapter 8 Tree-Based Methods Exercises"
   ]
  },
  {
   "cell_type": "code",
   "execution_count": 1,
   "metadata": {},
   "outputs": [],
   "source": [
    "import numpy as np\n",
    "import pandas as pd\n",
    "import matplotlib.pyplot as plt\n",
    "import seaborn as sns\n",
    "\n",
    "import pydot\n",
    "from IPython.display import Image\n",
    "from io import StringIO\n",
    "import os\n",
    "\n",
    "from sklearn.model_selection import train_test_split, cross_val_score\n",
    "from sklearn.tree import DecisionTreeRegressor, DecisionTreeClassifier, export_graphviz\n",
    "from sklearn.ensemble import BaggingClassifier, RandomForestClassifier, BaggingRegressor, RandomForestRegressor, GradientBoostingRegressor\n",
    "from sklearn.metrics import mean_squared_error, confusion_matrix, classification_report\n",
    "from sklearn.inspection import permutation_importance\n",
    "\n",
    "%matplotlib inline"
   ]
  },
  {
   "cell_type": "markdown",
   "metadata": {},
   "source": [
    "### 8.2. Why is boosting using depth-one trees (or stumps) analogous to an additive model?\n",
    "\n",
    "An additive model is one in which each variable is applied its own formula. \"Stumped Boosting\" more or less performs the same exercise by splitting one feature for each tree.\n"
   ]
  },
  {
   "cell_type": "markdown",
   "metadata": {},
   "source": [
    "### 8.5. Ten bootstrapped samples question.\n",
    "\n",
    "If I use the **majority-vote approach**, the predicted classification is **red**. If I apply **average probability**, the predicted classification is **green**."
   ]
  },
  {
   "cell_type": "code",
   "execution_count": 5,
   "metadata": {},
   "outputs": [
    {
     "data": {
      "text/plain": [
       "0.45"
      ]
     },
     "execution_count": 5,
     "metadata": {},
     "output_type": "execute_result"
    }
   ],
   "source": [
    "q5_arr = np.array([0.1, 0.15, 0.2, 0.2, 0.55, 0.6, 0.6, 0.65, 0.7, 0.75])\n",
    "q5_arr.mean()"
   ]
  },
  {
   "cell_type": "markdown",
   "metadata": {},
   "source": [
    "### 8.5. A detailed explanation of the algorithm that is used to fit a regression tree.\n",
    "\n",
    "- "
   ]
  },
  {
   "cell_type": "markdown",
   "metadata": {},
   "source": [
    "## Conceptual"
   ]
  },
  {
   "cell_type": "markdown",
   "metadata": {},
   "source": [
    "### 8.7. Create a plot displaying the test error resulting from a random forest on the Boston dataset for a more comprehensive range of values for \"max_features\" and \"n_estimators.\""
   ]
  },
  {
   "cell_type": "code",
   "execution_count": 35,
   "metadata": {},
   "outputs": [],
   "source": [
    "url_path = os.path.abspath('..')\n",
    "boston = pd.read_csv(url_path + '/data/Boston.csv')\n",
    "\n",
    "X = boston.drop('medv', axis=1)\n",
    "y = boston['medv']\n",
    "\n",
    "X_train, X_test, y_train, y_test = train_test_split(X, y, test_size=0.5, random_state=1)"
   ]
  },
  {
   "cell_type": "code",
   "execution_count": 41,
   "metadata": {},
   "outputs": [],
   "source": [
    "num_trees = np.arange(1, 502, 50)\n",
    "num_features = np.arange(2, X_train.shape[1], 2)\n",
    "rf_mse_df = pd.DataFrame(index=num_trees)\n",
    "\n",
    "for feature_count in num_features:\n",
    "    mse_tmp_arr = []\n",
    "    for tree_count in num_trees:\n",
    "        regr = RandomForestRegressor(n_estimators=tree_count, max_features=feature_count)\n",
    "        regr.fit(X_train, y_train)\n",
    "        pred = regr.predict(X_test)\n",
    "        mse = mean_squared_error(y_test, pred)\n",
    "        mse_tmp_arr.append(mse)\n",
    "    \n",
    "    rf_mse_df[str(feature_count)+ '_features'] = pd.Series(mse_tmp_arr,index=num_trees)"
   ]
  },
  {
   "cell_type": "code",
   "execution_count": 42,
   "metadata": {},
   "outputs": [
    {
     "data": {
      "text/html": [
       "<div>\n",
       "<style scoped>\n",
       "    .dataframe tbody tr th:only-of-type {\n",
       "        vertical-align: middle;\n",
       "    }\n",
       "\n",
       "    .dataframe tbody tr th {\n",
       "        vertical-align: top;\n",
       "    }\n",
       "\n",
       "    .dataframe thead th {\n",
       "        text-align: right;\n",
       "    }\n",
       "</style>\n",
       "<table border=\"1\" class=\"dataframe\">\n",
       "  <thead>\n",
       "    <tr style=\"text-align: right;\">\n",
       "      <th></th>\n",
       "      <th>2_features</th>\n",
       "      <th>4_features</th>\n",
       "      <th>6_features</th>\n",
       "      <th>8_features</th>\n",
       "      <th>10_features</th>\n",
       "      <th>12_features</th>\n",
       "    </tr>\n",
       "  </thead>\n",
       "  <tbody>\n",
       "    <tr>\n",
       "      <th>1</th>\n",
       "      <td>43.670435</td>\n",
       "      <td>37.444427</td>\n",
       "      <td>23.667945</td>\n",
       "      <td>23.280791</td>\n",
       "      <td>26.299842</td>\n",
       "      <td>37.786877</td>\n",
       "    </tr>\n",
       "    <tr>\n",
       "      <th>51</th>\n",
       "      <td>16.675320</td>\n",
       "      <td>13.703738</td>\n",
       "      <td>11.269902</td>\n",
       "      <td>11.223146</td>\n",
       "      <td>12.200070</td>\n",
       "      <td>11.821735</td>\n",
       "    </tr>\n",
       "    <tr>\n",
       "      <th>101</th>\n",
       "      <td>15.657207</td>\n",
       "      <td>12.945974</td>\n",
       "      <td>12.129272</td>\n",
       "      <td>11.574360</td>\n",
       "      <td>11.982468</td>\n",
       "      <td>11.951586</td>\n",
       "    </tr>\n",
       "    <tr>\n",
       "      <th>151</th>\n",
       "      <td>15.122348</td>\n",
       "      <td>12.251914</td>\n",
       "      <td>11.427252</td>\n",
       "      <td>11.809820</td>\n",
       "      <td>11.794313</td>\n",
       "      <td>11.945099</td>\n",
       "    </tr>\n",
       "    <tr>\n",
       "      <th>201</th>\n",
       "      <td>15.100724</td>\n",
       "      <td>12.355151</td>\n",
       "      <td>12.168421</td>\n",
       "      <td>11.522251</td>\n",
       "      <td>11.524399</td>\n",
       "      <td>12.010172</td>\n",
       "    </tr>\n",
       "    <tr>\n",
       "      <th>251</th>\n",
       "      <td>16.451127</td>\n",
       "      <td>12.463903</td>\n",
       "      <td>11.645327</td>\n",
       "      <td>11.457636</td>\n",
       "      <td>11.598830</td>\n",
       "      <td>11.923924</td>\n",
       "    </tr>\n",
       "    <tr>\n",
       "      <th>301</th>\n",
       "      <td>15.424712</td>\n",
       "      <td>12.614782</td>\n",
       "      <td>11.616946</td>\n",
       "      <td>11.363168</td>\n",
       "      <td>11.440010</td>\n",
       "      <td>11.845172</td>\n",
       "    </tr>\n",
       "    <tr>\n",
       "      <th>351</th>\n",
       "      <td>14.884696</td>\n",
       "      <td>12.778173</td>\n",
       "      <td>11.072796</td>\n",
       "      <td>11.562369</td>\n",
       "      <td>11.272593</td>\n",
       "      <td>11.718748</td>\n",
       "    </tr>\n",
       "    <tr>\n",
       "      <th>401</th>\n",
       "      <td>14.927033</td>\n",
       "      <td>12.106177</td>\n",
       "      <td>11.348089</td>\n",
       "      <td>11.360046</td>\n",
       "      <td>11.580965</td>\n",
       "      <td>11.811064</td>\n",
       "    </tr>\n",
       "    <tr>\n",
       "      <th>451</th>\n",
       "      <td>14.863011</td>\n",
       "      <td>12.345449</td>\n",
       "      <td>11.606638</td>\n",
       "      <td>11.591265</td>\n",
       "      <td>11.401480</td>\n",
       "      <td>11.698455</td>\n",
       "    </tr>\n",
       "    <tr>\n",
       "      <th>501</th>\n",
       "      <td>16.030718</td>\n",
       "      <td>12.588129</td>\n",
       "      <td>11.836539</td>\n",
       "      <td>11.287407</td>\n",
       "      <td>11.250908</td>\n",
       "      <td>11.507542</td>\n",
       "    </tr>\n",
       "  </tbody>\n",
       "</table>\n",
       "</div>"
      ],
      "text/plain": [
       "     2_features  4_features  6_features  8_features  10_features  12_features\n",
       "1     43.670435   37.444427   23.667945   23.280791    26.299842    37.786877\n",
       "51    16.675320   13.703738   11.269902   11.223146    12.200070    11.821735\n",
       "101   15.657207   12.945974   12.129272   11.574360    11.982468    11.951586\n",
       "151   15.122348   12.251914   11.427252   11.809820    11.794313    11.945099\n",
       "201   15.100724   12.355151   12.168421   11.522251    11.524399    12.010172\n",
       "251   16.451127   12.463903   11.645327   11.457636    11.598830    11.923924\n",
       "301   15.424712   12.614782   11.616946   11.363168    11.440010    11.845172\n",
       "351   14.884696   12.778173   11.072796   11.562369    11.272593    11.718748\n",
       "401   14.927033   12.106177   11.348089   11.360046    11.580965    11.811064\n",
       "451   14.863011   12.345449   11.606638   11.591265    11.401480    11.698455\n",
       "501   16.030718   12.588129   11.836539   11.287407    11.250908    11.507542"
      ]
     },
     "execution_count": 42,
     "metadata": {},
     "output_type": "execute_result"
    }
   ],
   "source": [
    "rf_mse_df"
   ]
  },
  {
   "cell_type": "code",
   "execution_count": 44,
   "metadata": {},
   "outputs": [
    {
     "data": {
      "text/plain": [
       "2_features     14.863011\n",
       "4_features     12.106177\n",
       "6_features     11.072796\n",
       "8_features     11.223146\n",
       "10_features    11.250908\n",
       "12_features    11.507542\n",
       "dtype: float64"
      ]
     },
     "execution_count": 44,
     "metadata": {},
     "output_type": "execute_result"
    }
   ],
   "source": [
    "rf_mse_df.min()"
   ]
  },
  {
   "cell_type": "code",
   "execution_count": 43,
   "metadata": {},
   "outputs": [
    {
     "data": {
      "image/png": "[encoded data removed]",
      "text/plain": [
       "<Figure size 504x360 with 1 Axes>"
      ]
     },
     "metadata": {
      "needs_background": "light"
     },
     "output_type": "display_data"
    }
   ],
   "source": [
    "fig, ax = plt.subplots(figsize=(7,5))\n",
    "\n",
    "sns.lineplot(data=rf_mse_df)\n",
    "ax.set_title('Random Forest MSE - Boston Test Set', fontsize=16)\n",
    "ax.set_xlabel('# of Trees')\n",
    "ax.set_ylabel('MSE')\n",
    "fig.tight_layout();"
   ]
  },
  {
   "cell_type": "markdown",
   "metadata": {},
   "source": [
    "The lowest test MSE of **11.072796** was acehieved using **351 estimators** and **6 features**. In general, the models with **>=6 features** performed similary when **>= 51 estimators**. When using 12 features, there seemed to be a bit of overfitting as the MSE increased."
   ]
  },
  {
   "cell_type": "code",
   "execution_count": null,
   "metadata": {},
   "outputs": [],
   "source": []
  }
 ],
 "metadata": {
  "kernelspec": {
   "display_name": "Python 3",
   "language": "python",
   "name": "python3"
  },
  "language_info": {
   "codemirror_mode": {
    "name": "ipython",
    "version": 3
   },
   "file_extension": ".py",
   "mimetype": "text/x-python",
   "name": "python",
   "nbconvert_exporter": "python",
   "pygments_lexer": "ipython3",
   "version": "3.7.9"
  }
 },
 "nbformat": 4,
 "nbformat_minor": 4
}
