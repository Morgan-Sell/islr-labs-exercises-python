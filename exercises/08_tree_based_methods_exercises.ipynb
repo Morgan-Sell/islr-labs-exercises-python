{
 "cells": [
  {
   "cell_type": "markdown",
   "metadata": {},
   "source": [
    "# Chapter 8 Tree-Based Methods Exercises"
   ]
  },
  {
   "cell_type": "code",
   "execution_count": 1,
   "metadata": {},
   "outputs": [],
   "source": [
    "import numpy as np\n",
    "import pandas as pd\n",
    "import matplotlib.pyplot as plt\n",
    "import seaborn as sns\n",
    "\n",
    "import pydot\n",
    "from IPython.display import Image\n",
    "from io import StringIO\n",
    "import os\n",
    "\n",
    "from sklearn.model_selection import train_test_split, cross_val_score, GridSearchCV, KFold\n",
    "from sklearn.tree import DecisionTreeRegressor, DecisionTreeClassifier, export_graphviz\n",
    "from sklearn.ensemble import BaggingClassifier, RandomForestClassifier, BaggingRegressor, RandomForestRegressor\n",
    "from sklearn.ensemble import GradientBoostingRegressor, GradientBoostingClassifier\n",
    "from sklearn.metrics import mean_squared_error, confusion_matrix, classification_report, accuracy_score\n",
    "from sklearn.inspection import permutation_importance\n",
    "from sklearn.linear_model import LinearRegression, Lasso, Ridge, RidgeCV, LassoCV\n",
    "from sklearn.preprocessing import StandardScaler\n",
    "\n",
    "from imblearn.over_sampling import SMOTE, RandomOverSampler\n",
    "\n",
    "from src import ch8_utils\n",
    "\n",
    "%matplotlib inline"
   ]
  },
  {
   "cell_type": "markdown",
   "metadata": {},
   "source": [
    "### 8.2. Why is boosting using depth-one trees (or stumps) analogous to an additive model?\n",
    "\n",
    "An additive model is one in which each variable is applied its own formula. \"Stumped Boosting\" more or less performs the same exercise by splitting one feature for each tree.\n"
   ]
  },
  {
   "cell_type": "markdown",
   "metadata": {},
   "source": [
    "### 8.5. Ten bootstrapped samples question.\n",
    "\n",
    "If I use the **majority-vote approach**, the predicted classification is **red**. If I apply **average probability**, the predicted classification is **green**."
   ]
  },
  {
   "cell_type": "code",
   "execution_count": null,
   "metadata": {},
   "outputs": [],
   "source": [
    "q5_arr = np.array([0.1, 0.15, 0.2, 0.2, 0.55, 0.6, 0.6, 0.65, 0.7, 0.75])\n",
    "q5_arr.mean()"
   ]
  },
  {
   "cell_type": "markdown",
   "metadata": {},
   "source": [
    "### 8.5. A detailed explanation of the algorithm that is used to fit a regression tree.\n",
    "\n",
    "- "
   ]
  },
  {
   "cell_type": "markdown",
   "metadata": {},
   "source": [
    "## Conceptual"
   ]
  },
  {
   "cell_type": "markdown",
   "metadata": {},
   "source": [
    "### 8.7. Create a plot displaying the test error resulting from a random forest on the Boston dataset for a more comprehensive range of values for \"max_features\" and \"n_estimators.\""
   ]
  },
  {
   "cell_type": "code",
   "execution_count": null,
   "metadata": {},
   "outputs": [],
   "source": [
    "url_path = os.path.abspath('..')\n",
    "boston = pd.read_csv(url_path + '/data/Boston.csv')\n",
    "\n",
    "X = boston.drop('medv', axis=1)\n",
    "y = boston['medv']\n",
    "\n",
    "X_train, X_test, y_train, y_test = train_test_split(X, y, test_size=0.5, random_state=1)"
   ]
  },
  {
   "cell_type": "code",
   "execution_count": null,
   "metadata": {},
   "outputs": [],
   "source": [
    "num_trees = np.arange(1, 502, 50)\n",
    "num_features = np.arange(2, X_train.shape[1], 2)\n",
    "rf_mse_df = pd.DataFrame(index=num_trees)\n",
    "\n",
    "for feature_count in num_features:\n",
    "    mse_tmp_arr = []\n",
    "    for tree_count in num_trees:\n",
    "        regr = RandomForestRegressor(n_estimators=tree_count, max_features=feature_count)\n",
    "        regr.fit(X_train, y_train)\n",
    "        pred = regr.predict(X_test)\n",
    "        mse = mean_squared_error(y_test, pred)\n",
    "        mse_tmp_arr.append(mse)\n",
    "    \n",
    "    rf_mse_df[str(feature_count)+ '_features'] = pd.Series(mse_tmp_arr,index=num_trees)"
   ]
  },
  {
   "cell_type": "code",
   "execution_count": null,
   "metadata": {},
   "outputs": [],
   "source": [
    "fig, ax = plt.subplots(figsize=(7,5))\n",
    "\n",
    "sns.lineplot(data=rf_mse_df)\n",
    "ax.set_title('Random Forest MSE - Boston Test Set', fontsize=16)\n",
    "ax.set_xlabel('# of Trees')\n",
    "ax.set_ylabel('MSE')\n",
    "fig.tight_layout();"
   ]
  },
  {
   "cell_type": "markdown",
   "metadata": {},
   "source": [
    "The lowest test MSE of **11.072796** was acehieved using **351 estimators** and **6 features**. In general, the models with **>=6 features** performed similary when **>= 51 estimators**. When using 12 features, there seemed to be a bit of overfitting as the MSE increased."
   ]
  },
  {
   "cell_type": "markdown",
   "metadata": {},
   "source": [
    "## 8.8. Apply a regression to the Carseats dataset to predict sales."
   ]
  },
  {
   "cell_type": "code",
   "execution_count": null,
   "metadata": {},
   "outputs": [],
   "source": [
    "url_path = os.path.abspath('..')\n",
    "carseats = pd.read_csv(url_path + '/data/Carseats.csv')\n",
    "\n",
    "# Feature engineering\n",
    "carseats['ShelveLoc'] = pd.factorize(carseats['ShelveLoc'])[0]\n",
    "carseats['Urban'] = carseats['Urban'].map({'No': 0, 'Yes':1})\n",
    "carseats['US'] = carseats['US'].map({'No': 0, 'Yes': 1})\n",
    "\n",
    "carseats.head()"
   ]
  },
  {
   "cell_type": "code",
   "execution_count": null,
   "metadata": {},
   "outputs": [],
   "source": [
    "X = carseats.drop('Sales', axis=1)\n",
    "y = carseats['Sales']\n",
    "\n",
    "X_train, X_test, y_train, y_test = train_test_split(X, y, test_size=0.2, random_state=1)"
   ]
  },
  {
   "cell_type": "code",
   "execution_count": null,
   "metadata": {},
   "outputs": [],
   "source": [
    "dtree_regr = DecisionTreeRegressor(max_depth = 5)\n",
    "dtree_regr.fit(X_train, y_train)\n",
    "pred = dtree_regr.predict(X_test)"
   ]
  },
  {
   "cell_type": "code",
   "execution_count": null,
   "metadata": {},
   "outputs": [],
   "source": [
    "tree_viz, = ch8_utils.print_tree(dtree_regr, X_train.columns, class_names=None, filled=True)\n",
    "Image(tree_viz.create_png())"
   ]
  },
  {
   "cell_type": "code",
   "execution_count": null,
   "metadata": {},
   "outputs": [],
   "source": [
    "print('Decision Tree MSE: {:.4}'.format(mean_squared_error(y_test, pred)))"
   ]
  },
  {
   "cell_type": "markdown",
   "metadata": {},
   "source": [
    "It seems that the sales of carseats is more influenced by adveristing/marketing than product quality/safety. In general, the better the shelve base, the greater the sales. Also, the more affluent the market/consumer - e.g., income and competitive product price - the greater the sales.\n",
    "\n",
    "In summary, if a company targets the lower economic class, the less goods it is expected to sell"
   ]
  },
  {
   "cell_type": "markdown",
   "metadata": {},
   "source": [
    "#### Use cross-validation to determine optimal level of tree complexity."
   ]
  },
  {
   "cell_type": "code",
   "execution_count": null,
   "metadata": {},
   "outputs": [],
   "source": [
    "max_depth_arr = np.arange(1, 11)\n",
    "avg_train_mse_arr = []\n",
    "train_cross_val_df = pd.DataFrame()\n",
    "test_mse_arr = []\n",
    "\n",
    "for depth in max_depth_arr:\n",
    "    regr = DecisionTreeRegressor(max_depth=depth)\n",
    "    regr.fit(X_train, y_train)\n",
    "    \n",
    "    # training set metrics\n",
    "    train_cross_val_arr = -1 * cross_val_score(regr, X_train, y_train, cv=10, scoring='neg_mean_squared_error', n_jobs=-1)\n",
    "    train_cross_val_df[str(depth) + '_depth'] = train_cross_val_arr\n",
    "    \n",
    "    train_mse = np.mean(train_cross_val_arr)\n",
    "    avg_train_mse_arr.append(train_mse)\n",
    "    \n",
    "    # test set\n",
    "    pred = regr.predict(X_test)\n",
    "    test_mse = mean_squared_error(pred, y_test)\n",
    "    test_mse_arr.append(test_mse)\n",
    "    "
   ]
  },
  {
   "cell_type": "code",
   "execution_count": null,
   "metadata": {},
   "outputs": [],
   "source": [
    "train_c_val_df, avg_train_mse_arr, test_mse_arr = ch8_utils.calc_train_test_mse_decision_tree_regr(X_train,\n",
    "                                                                                                X_test,\n",
    "                                                                                                y_train,\n",
    "                                                                                                y_test,\n",
    "                                                                                                10,\n",
    "                                                                                                10)"
   ]
  },
  {
   "cell_type": "code",
   "execution_count": null,
   "metadata": {},
   "outputs": [],
   "source": [
    "fig, ax = plt.subplots(figsize=(10,5))\n",
    "\n",
    "sns.boxplot(data=train_c_val_df, ax=ax)\n",
    "ax.set_title('Decision Tree MSE Distribution (Training Set) by Depth', fontsize=16)\n",
    "ax.set_xlabel('# of Node Levels')\n",
    "ax.set_ylabel('MSE')\n",
    "fig.tight_layout();"
   ]
  },
  {
   "cell_type": "code",
   "execution_count": null,
   "metadata": {},
   "outputs": [],
   "source": [
    "max_depth_arr = np.arange(1, 11)\n",
    "\n",
    "fig, ax = plt.subplots(figsize=(8,4))\n",
    "\n",
    "sns.lineplot(x=max_depth_arr, y=avg_train_mse_arr, ax=ax)\n",
    "ax.set_title('Avg Training Set MSE by Decision Tree Complexity', fontsize=16)\n",
    "ax.set_xlabel('# of Node Levels')\n",
    "ax.set_ylabel('MSE')\n",
    "fig.tight_layout();"
   ]
  },
  {
   "cell_type": "code",
   "execution_count": null,
   "metadata": {},
   "outputs": [],
   "source": [
    "fig, ax = plt.subplots(figsize=(8,4))\n",
    "\n",
    "sns.lineplot(x=max_depth_arr, y=test_mse_arr, ax=ax)\n",
    "ax.set_title('Avg Test Set MSE by Decision Tree Complexity', fontsize=16)\n",
    "ax.set_xlabel('# of Node Levels')\n",
    "ax.set_ylabel('MSE')\n",
    "fig.tight_layout();"
   ]
  },
  {
   "cell_type": "markdown",
   "metadata": {},
   "source": [
    "A depth of 7 produces the optimal MSE of ~5.6, which is lower than allowing the tree to grow."
   ]
  },
  {
   "cell_type": "markdown",
   "metadata": {},
   "source": [
    "### 8.4.d. Apply the previous approach to a bagging model."
   ]
  },
  {
   "cell_type": "code",
   "execution_count": null,
   "metadata": {},
   "outputs": [],
   "source": [
    "num_features = X.shape[1]\n",
    "\n",
    "train_c_val_df, avg_train_mse_arr, test_mse_arr = ch8_utils.calc_train_test_mse_bagging_regr(X_train,\n",
    "                                                                                            X_test,\n",
    "                                                                                            y_train,\n",
    "                                                                                                y_test,\n",
    "                                                                                                10,\n",
    "                                                                                                10)"
   ]
  },
  {
   "cell_type": "code",
   "execution_count": null,
   "metadata": {},
   "outputs": [],
   "source": [
    "fig, ax = plt.subplots(figsize=(10,5))\n",
    "\n",
    "sns.boxplot(data=train_c_val_df, ax=ax)\n",
    "ax.set_title('Bagging MSE Distribution (Training Set)by Depth', fontsize=16)\n",
    "ax.set_xlabel('# of Node Levels')\n",
    "ax.set_ylabel('MSE')\n",
    "fig.tight_layout();"
   ]
  },
  {
   "cell_type": "code",
   "execution_count": null,
   "metadata": {},
   "outputs": [],
   "source": [
    "max_depth_arr = np.arange(1, 11)\n",
    "\n",
    "fig, ax = plt.subplots(figsize=(8,4))\n",
    "\n",
    "sns.lineplot(x=max_depth_arr, y=avg_train_mse_arr, ax=ax)\n",
    "ax.set_title('Bagging Avg MSE (Training Set) by Depth', fontsize=16)\n",
    "ax.set_xlabel('# of Node Levels')\n",
    "ax.set_ylabel('MSE')\n",
    "fig.tight_layout();"
   ]
  },
  {
   "cell_type": "code",
   "execution_count": null,
   "metadata": {},
   "outputs": [],
   "source": [
    "fig, ax = plt.subplots(figsize=(8,4))\n",
    "\n",
    "sns.lineplot(x=max_depth_arr, y=test_mse_arr, ax=ax)\n",
    "ax.set_title('Bagging MSE (test set) by Depth', fontsize=16)\n",
    "ax.set_xlabel('# of Node Levels')\n",
    "ax.set_ylabel('MSE')\n",
    "fig.tight_layout();"
   ]
  },
  {
   "cell_type": "markdown",
   "metadata": {},
   "source": [
    "#### 8.7.d Bagging Feature Importance\n",
    "\n",
    "Used random forest because bagging is not compatible w/ feature importance."
   ]
  },
  {
   "cell_type": "code",
   "execution_count": null,
   "metadata": {},
   "outputs": [],
   "source": [
    "# Used ra\n",
    "#bag_regr = BaggingRegressor()\n",
    "bag_regr = RandomForestRegressor(max_depth=7,\n",
    "                                max_features=X_train.shape[1])\n",
    "bag_regr.fit(X_train, y_train)\n",
    "\n",
    "pred = bag_regr.predict(X_test)\n",
    "test_mse = mean_squared_error(pred, y_test)"
   ]
  },
  {
   "cell_type": "code",
   "execution_count": null,
   "metadata": {},
   "outputs": [],
   "source": [
    "feature_importance = pd.DataFrame({'importance': bag_regr.feature_importances_*100}, index=X_train.columns)\n",
    "feature_importance.sort_values('importance', axis=0, ascending=True, inplace=True)\n",
    "feature_importance.reset_index()"
   ]
  },
  {
   "cell_type": "code",
   "execution_count": null,
   "metadata": {},
   "outputs": [],
   "source": [
    "ch8_utils.display_bagging_rf_feature_importance(bag_regr, X_train, 'Carseat Bagging Feature Importance', (7,6))"
   ]
  },
  {
   "cell_type": "markdown",
   "metadata": {},
   "source": [
    "### 8.8.e Apply Random Forest"
   ]
  },
  {
   "cell_type": "code",
   "execution_count": null,
   "metadata": {},
   "outputs": [],
   "source": [
    "# Use GridSearchCV to determine the optimal number of features\n",
    "\n",
    "rf_regr = RandomForestRegressor()\n",
    "cv = KFold(n_splits=10, shuffle=True, random_state=3)\n",
    "\n",
    "# determine optimal number of features per split and depth\n",
    "grid = dict()\n",
    "grid['max_features'] = np.arange(2, X_train.shape[0])\n",
    "grid['max_depth'] = np.arange(1, 7)\n",
    "\n",
    "gsearch = GridSearchCV(rf_regr, grid, scoring='neg_mean_squared_error', cv=cv, n_jobs=-1)\n",
    "\n",
    "results = gsearch.fit(X_train, y_train)\n",
    "\n",
    "print('Best MSE: {:.5}'.format(results.best_score_))\n",
    "print('Optimal # of features: {}'.format(results.best_params_['max_features']))\n",
    "print('Optimal Depth: {}'.format(results.best_params_['max_depth']))"
   ]
  },
  {
   "cell_type": "code",
   "execution_count": null,
   "metadata": {},
   "outputs": [],
   "source": [
    "# Use best parameters to predict carseat sales.\n",
    "rf_regr = RandomForestRegressor(max_features=8,\n",
    "                               max_depth=6)\n",
    "\n",
    "rf_regr.fit(X_train, y_train)\n",
    "pred = rf_regr.predict(X_test)\n",
    "\n",
    "print('Test MSE: {:5}'.format(mean_squared_error(y_test, pred)))"
   ]
  },
  {
   "cell_type": "code",
   "execution_count": null,
   "metadata": {},
   "outputs": [],
   "source": [
    "#### Plot the test MSE depending on number of features per split\n",
    "\n",
    "num_features_arr = np.arange(1, X_train.shape[1])\n",
    "test_mse_arr = []\n",
    "\n",
    "for num in num_features_arr:\n",
    "    rf_regr = RandomForestRegressor(max_features=num)\n",
    "    rf_regr.fit(X_train, y_train)\n",
    "    \n",
    "    pred = rf_regr.predict(X_test)\n",
    "    \n",
    "    mse = mean_squared_error(y_test, pred)\n",
    "    test_mse_arr.append(mse)"
   ]
  },
  {
   "cell_type": "code",
   "execution_count": null,
   "metadata": {},
   "outputs": [],
   "source": [
    "fig, ax = plt.subplots(figsize=(7,4))\n",
    "\n",
    "ax.plot(num_features_arr, test_mse_arr, c='orange', linewidth=3)\n",
    "ax.set_title('Random Forest Test MSE', fontsize=16)\n",
    "ax.set_xlabel('# of Features')\n",
    "ax.set_ylabel('MSE')\n",
    "\n",
    "fig.tight_layout();"
   ]
  },
  {
   "cell_type": "markdown",
   "metadata": {},
   "source": [
    "Overall, the trend of the MSE line slopes downward until it achieves an optimal minimum at **7 fetures**. At which point, MSE begins to increase. I expected such a trend. However, it is odd that there is a spike at 6 features."
   ]
  },
  {
   "cell_type": "code",
   "execution_count": null,
   "metadata": {},
   "outputs": [],
   "source": [
    "url_path = os.path.abspath('..')\n",
    "carseats = pd.read_csv(url_path + '/data/Carseats.csv')"
   ]
  },
  {
   "cell_type": "markdown",
   "metadata": {},
   "source": [
    "## 8.9. OJ Dataset\n",
    "\n",
    "CH = Citrus Hill <-- 1\n",
    "<br>\n",
    "MM = Minute Maid <-- 0\n",
    "\n",
    "Work requires R."
   ]
  },
  {
   "cell_type": "code",
   "execution_count": null,
   "metadata": {},
   "outputs": [],
   "source": [
    "url_path = os.path.abspath('..')\n",
    "oj = pd.read_csv(url_path + '/data/OJ.csv', index_col=0)\n",
    "oj.head()"
   ]
  },
  {
   "cell_type": "markdown",
   "metadata": {},
   "source": [
    "#### 8.9.a. Create a training set comprised of 800 random observations."
   ]
  },
  {
   "cell_type": "code",
   "execution_count": null,
   "metadata": {},
   "outputs": [],
   "source": [
    "oj['STORE'].unique()"
   ]
  },
  {
   "cell_type": "code",
   "execution_count": null,
   "metadata": {},
   "outputs": [],
   "source": [
    "carseats['ShelveLoc'] = pd.factorize(carseats['ShelveLoc'])[0]\n",
    "carseats['Urban'] = carseats['Urban'].map({'No': 0, 'Yes':1})\n",
    "carseats['US'] = carseats['US'].map({'No': 0, 'Yes': 1})"
   ]
  },
  {
   "cell_type": "code",
   "execution_count": null,
   "metadata": {},
   "outputs": [],
   "source": [
    "oj['oj_brand'] = oj['Purchase'].map({'CH': 1, 'MM': 0})\n",
    "oj['Store7'] = oj['Store7'].map({'No': 0, 'Yes': 1})"
   ]
  },
  {
   "cell_type": "code",
   "execution_count": null,
   "metadata": {},
   "outputs": [],
   "source": [
    "X = oj.drop(['oj_brand', 'Purchase'], axis=1)\n",
    "y = oj['oj_brand']\n",
    "\n",
    "prcnt_test = 1 - (800 / oj.shape[0])\n",
    "\n",
    "X_train, X_test, y_train, y_test = train_test_split(X, y, test_size=prcnt_test, random_state=3)"
   ]
  },
  {
   "cell_type": "markdown",
   "metadata": {},
   "source": [
    "#### 8.9.b. Fit a decision treee. Produce summary statistics. What is the training error? How many terminal nodes does the tree have?"
   ]
  },
  {
   "cell_type": "code",
   "execution_count": null,
   "metadata": {},
   "outputs": [],
   "source": [
    "dtree = DecisionTreeClassifier()\n",
    "dtree.fit(X_train, y_train)\n",
    "pred = dtree.predict(X_test)\n",
    "\n",
    "accuracy = accuracy_score(y_test, pred)\n",
    "\n",
    "('Acc')"
   ]
  },
  {
   "cell_type": "markdown",
   "metadata": {},
   "source": [
    "---\n",
    "\n",
    "# 8.10. Use boosting to predict Salary in the Hitters dataset."
   ]
  },
  {
   "cell_type": "code",
   "execution_count": null,
   "metadata": {},
   "outputs": [],
   "source": [
    "url_path = os.path.abspath('..')\n",
    "hitters = pd.read_csv(url_path + '/data/Hitters.csv', index_col=0)\n",
    "\n",
    "hitters.head()"
   ]
  },
  {
   "cell_type": "code",
   "execution_count": null,
   "metadata": {},
   "outputs": [],
   "source": [
    "sns.heatmap(hitters.isnull(), cmap='viridis', cbar=False, yticklabels=False);"
   ]
  },
  {
   "cell_type": "code",
   "execution_count": null,
   "metadata": {},
   "outputs": [],
   "source": [
    "hitters.info()"
   ]
  },
  {
   "cell_type": "markdown",
   "metadata": {},
   "source": [
    "### Remove null values and log-transform the salaries"
   ]
  },
  {
   "cell_type": "code",
   "execution_count": null,
   "metadata": {},
   "outputs": [],
   "source": [
    "hitters.dropna(axis=0, inplace=True)\n",
    "hitters['salary_log10'] = np.log10(hitters['Salary'])\n",
    "hitters['league_is_american'] = hitters['League'].map({'A': 1, 'N': 0})\n",
    "hitters['new_league_is_american'] = hitters['NewLeague'].map({'A': 1, 'N': 0})\n",
    "hitters['division_is_east'] = hitters['Division'].map({'E': 1, 'W':0})\n",
    "\n",
    "hitters.drop(['Salary', 'League', 'NewLeague', 'Division'], axis=1, inplace=True)"
   ]
  },
  {
   "cell_type": "code",
   "execution_count": null,
   "metadata": {},
   "outputs": [],
   "source": [
    "X = hitters.drop('salary_log10', axis=1)\n",
    "y = hitters['salary_log10']\n",
    "\n",
    "X_train, X_test = X.iloc[:200, :], X.iloc[200:, :]\n",
    "y_train, y_test = y.iloc[:200], y.iloc[200:]"
   ]
  },
  {
   "cell_type": "code",
   "execution_count": null,
   "metadata": {},
   "outputs": [],
   "source": [
    "X_train"
   ]
  },
  {
   "cell_type": "markdown",
   "metadata": {},
   "source": [
    "#### 8.10.c. Perform boosting on the training set w/ 1,000 trees for a range of values of the shrinkage parameter lambda. Produce a plot with different shrinkage values on the x-axis and the corresponding"
   ]
  },
  {
   "cell_type": "code",
   "execution_count": null,
   "metadata": {},
   "outputs": [],
   "source": [
    "lambda_rng = [0.001, 0.01, 0.1, 1]\n",
    "train_mse_arr = []\n",
    "\n",
    "for lam in lambda_rng:\n",
    "    g_boost = GradientBoostingRegressor(n_estimators=1000, learning_rate=lam, random_state=3)\n",
    "    g_boost.fit(X_train, y_train)\n",
    "    train_pred = g_boost.predict(X_train)\n",
    "    train_mse_arr.append(mean_squared_error(y_train, train_pred))"
   ]
  },
  {
   "cell_type": "code",
   "execution_count": null,
   "metadata": {},
   "outputs": [],
   "source": [
    "fig, ax = plt.subplots(figsize=(6,4))\n",
    "\n",
    "ax.plot(lambda_rng, train_mse_arr, c='b', linewidth=3)\n",
    "ax.set_xscale('log')\n",
    "ax.set_title('Salary by Shrinkage Rate - Training Set', fontsize=16)\n",
    "ax.set_xlabel('Lambda')\n",
    "ax.set_ylabel('MSE')\n",
    "fig.tight_layout();"
   ]
  },
  {
   "cell_type": "markdown",
   "metadata": {},
   "source": [
    "### 8.10.d. Perform the above exercise with the test set."
   ]
  },
  {
   "cell_type": "code",
   "execution_count": null,
   "metadata": {},
   "outputs": [],
   "source": [
    "lambda_rng = [0.001, 0.01, 0.1, 1]\n",
    "test_mse_arr = []\n",
    "\n",
    "for lam in lambda_rng:\n",
    "    g_boost = GradientBoostingRegressor(n_estimators=1000, learning_rate=lam, random_state=3)\n",
    "    g_boost.fit(X_train, y_train)\n",
    "    pred = g_boost.predict(X_test)\n",
    "    test_mse_arr.append(mean_squared_error(y_test, pred))"
   ]
  },
  {
   "cell_type": "code",
   "execution_count": null,
   "metadata": {},
   "outputs": [],
   "source": [
    "fig, ax = plt.subplots(figsize=(6,4))\n",
    "\n",
    "ax.plot(lambda_rng, test_mse_arr, c='b', linewidth=3)\n",
    "ax.set_xscale('log')\n",
    "ax.set_title('Salary by Shrinkage Rate - Test Set', fontsize=16)\n",
    "ax.set_xlabel('Lambda')\n",
    "ax.set_ylabel('MSE')\n",
    "fig.tight_layout();"
   ]
  },
  {
   "cell_type": "markdown",
   "metadata": {},
   "source": [
    "Optimal Gradient Boost Using Training Set Results (for later use)"
   ]
  },
  {
   "cell_type": "code",
   "execution_count": null,
   "metadata": {},
   "outputs": [],
   "source": [
    "gboost = GradientBoostingRegressor(n_estimators=1000, learning_rate=0.1, random_state=3)\n",
    "gboost.fit(X_train, y_train)\n",
    "pred = gboost.predict(X_test)\n",
    "mse = mean_squared_error(y_test, pred)\n",
    "\n",
    "print('Optimal Gradient Boost MSE (test set): {:.6}'.format(mse))"
   ]
  },
  {
   "cell_type": "markdown",
   "metadata": {},
   "source": [
    "### 8.10.e. Compare Gradient Boost's test MSE with Linear, Ridge, and Lasso Regression"
   ]
  },
  {
   "cell_type": "markdown",
   "metadata": {},
   "source": [
    "Linear Regression"
   ]
  },
  {
   "cell_type": "code",
   "execution_count": null,
   "metadata": {},
   "outputs": [],
   "source": [
    "scaler = StandardScaler()\n",
    "scaler.fit(X_train)\n",
    "X_train_scaled = scaler.transform(X_train)\n",
    "X_test_scaled = scaler.transform(X_test)\n",
    "\n",
    "lin_reg = LinearRegression()\n",
    "lin_reg.fit(X_train_scaled, y_train)\n",
    "pred = lin_reg.predict(X_test_scaled)\n",
    "\n",
    "mse = mean_squared_error(y_test, pred)\n",
    "print(\"Linear Regression Test MSE: {:.5}\".format(mse))"
   ]
  },
  {
   "cell_type": "markdown",
   "metadata": {},
   "source": [
    "Ridge Regression"
   ]
  },
  {
   "cell_type": "code",
   "execution_count": null,
   "metadata": {},
   "outputs": [],
   "source": [
    "# Alpha is solely used for Ridge Regression\n",
    "alphas = 10**np.linspace(10,-2,100)*0.5\n",
    "cv = KFold(n_splits=10, shuffle=True, random_state=3)"
   ]
  },
  {
   "cell_type": "code",
   "execution_count": null,
   "metadata": {},
   "outputs": [],
   "source": [
    "ridge_cv = RidgeCV(alphas=alphas, cv=cv, fit_intercept=True, scoring='neg_mean_squared_error')\n",
    "ridge_cv.fit(X_train_scaled, y_train)\n",
    "\n",
    "print('Ridge CV Best R-Squared (Train set): {:.7}'.format(ridge_cv.best_score_))\n",
    "print('Best Alpha: {:.6}'.format(ridge_cv.alpha_))"
   ]
  },
  {
   "cell_type": "code",
   "execution_count": null,
   "metadata": {},
   "outputs": [],
   "source": [
    "ridge = Ridge(max_iter=1000)\n",
    "ridge.set_params(alpha=ridge_cv.alpha_)\n",
    "ridge.fit(X_train_scaled, y_train)\n",
    "pred = ridge.predict(X_test_scaled)\n",
    "mse = mean_squared_error(y_test, pred)\n",
    "\n",
    "print('Ridge MSE (test set): {:.5}'.format(mse))"
   ]
  },
  {
   "cell_type": "markdown",
   "metadata": {},
   "source": [
    "Lasso Regression"
   ]
  },
  {
   "cell_type": "code",
   "execution_count": null,
   "metadata": {},
   "outputs": [],
   "source": [
    "lasso_cv = LassoCV(alphas=None, cv=cv, fit_intercept=True)\n",
    "lasso_cv.fit(X_train_scaled, y_train)\n",
    "\n",
    "#print('Lasso CV Best R-Squared (train set): {:.7}'.format(lasso_cv.best_score_))\n",
    "print('Best Alpha: {:.7}'.format(lasso_cv.alpha_))"
   ]
  },
  {
   "cell_type": "code",
   "execution_count": null,
   "metadata": {},
   "outputs": [],
   "source": [
    "lasso = Lasso(max_iter=1000)\n",
    "lasso.set_params(alpha=lasso_cv.alpha_)\n",
    "lasso.fit(X_train_scaled, y_train)\n",
    "pred = lasso.predict(X_test_scaled)\n",
    "\n",
    "print('Lasso MSE (test set): {:.5}'.format(mean_squared_error(y_test, pred)))"
   ]
  },
  {
   "cell_type": "markdown",
   "metadata": {},
   "source": [
    "#### 8.10.f. Which variables appear to be the most important predictors in the boosted model?"
   ]
  },
  {
   "cell_type": "code",
   "execution_count": null,
   "metadata": {},
   "outputs": [],
   "source": [
    "salary_boost_results = permutation_importance(gboost, X_test, y_test, n_repeats=10, random_state=3, n_jobs=-1)\n",
    "perm_importance = pd.DataFrame({'importance': salary_boost_results.importances_mean*100}, index=X_test.columns)\n",
    "perm_importance.sort_values('importance', axis=0, ascending=True, inplace=True)"
   ]
  },
  {
   "cell_type": "code",
   "execution_count": null,
   "metadata": {},
   "outputs": [],
   "source": [
    "sorted_idx = salary_boost_results.importances_mean.argsort()\n",
    "perm_importance_2 = pd.DataFrame(salary_boost_results.importances.T *100, columns = X_test.columns)"
   ]
  },
  {
   "cell_type": "code",
   "execution_count": null,
   "metadata": {},
   "outputs": [],
   "source": [
    "sorted_idx = perm_importance_2.median().sort_values().index[::-1]\n",
    "perm_import_sorted = perm_importance_2[sorted_idx]"
   ]
  },
  {
   "cell_type": "code",
   "execution_count": null,
   "metadata": {},
   "outputs": [],
   "source": [
    "\n",
    "\n",
    "fig, ax = plt.subplots(figsize=(10, 8))\n",
    "sns.boxplot(data=perm_import_sorted, orient='h', ax=ax)\n",
    "ax.set_xlabel('Importance')\n",
    "ax.set_title('Permutation Importance', fontsize=18)\n",
    "fig.tight_layout();"
   ]
  },
  {
   "cell_type": "markdown",
   "metadata": {},
   "source": [
    "The two most important predictors are a player's number of career at-bats (CAtBat) and the number of career hits (CHits)."
   ]
  },
  {
   "cell_type": "markdown",
   "metadata": {},
   "source": [
    "#### 8.10.g. Now apply bagging to the training set. What is the best test MSE for this approach?"
   ]
  },
  {
   "cell_type": "code",
   "execution_count": null,
   "metadata": {},
   "outputs": [],
   "source": [
    "num_features = X_train.shape[1]\n",
    "bagging_regr = RandomForestRegressor(max_features=num_features, random_state=3)\n",
    "bagging_regr.fit(X_train, y_train)\n",
    "pred = bagging_regr.predict(X_test)\n",
    "mse = mean_squared_error(y_test, pred)\n",
    "\n",
    "print('Bagging MSE (test set): {:.5}'.format(mse))"
   ]
  },
  {
   "cell_type": "markdown",
   "metadata": {},
   "source": [
    "---\n",
    "# 8.11. Use the Caravan dataset."
   ]
  },
  {
   "cell_type": "markdown",
   "metadata": {},
   "source": [
    "#### 8.11.a. Create a training set consiting of the first 1,000 observations. The test set is comprised of the remaining observations."
   ]
  },
  {
   "cell_type": "code",
   "execution_count": 2,
   "metadata": {},
   "outputs": [
    {
     "data": {
      "text/html": [
       "<div>\n",
       "<style scoped>\n",
       "    .dataframe tbody tr th:only-of-type {\n",
       "        vertical-align: middle;\n",
       "    }\n",
       "\n",
       "    .dataframe tbody tr th {\n",
       "        vertical-align: top;\n",
       "    }\n",
       "\n",
       "    .dataframe thead th {\n",
       "        text-align: right;\n",
       "    }\n",
       "</style>\n",
       "<table border=\"1\" class=\"dataframe\">\n",
       "  <thead>\n",
       "    <tr style=\"text-align: right;\">\n",
       "      <th></th>\n",
       "      <th>MOSTYPE</th>\n",
       "      <th>MAANTHUI</th>\n",
       "      <th>MGEMOMV</th>\n",
       "      <th>MGEMLEEF</th>\n",
       "      <th>MOSHOOFD</th>\n",
       "      <th>MGODRK</th>\n",
       "      <th>MGODPR</th>\n",
       "      <th>MGODOV</th>\n",
       "      <th>MGODGE</th>\n",
       "      <th>MRELGE</th>\n",
       "      <th>...</th>\n",
       "      <th>APERSONG</th>\n",
       "      <th>AGEZONG</th>\n",
       "      <th>AWAOREG</th>\n",
       "      <th>ABRAND</th>\n",
       "      <th>AZEILPL</th>\n",
       "      <th>APLEZIER</th>\n",
       "      <th>AFIETS</th>\n",
       "      <th>AINBOED</th>\n",
       "      <th>ABYSTAND</th>\n",
       "      <th>Purchase</th>\n",
       "    </tr>\n",
       "  </thead>\n",
       "  <tbody>\n",
       "    <tr>\n",
       "      <th>0</th>\n",
       "      <td>33</td>\n",
       "      <td>1</td>\n",
       "      <td>3</td>\n",
       "      <td>2</td>\n",
       "      <td>8</td>\n",
       "      <td>0</td>\n",
       "      <td>5</td>\n",
       "      <td>1</td>\n",
       "      <td>3</td>\n",
       "      <td>7</td>\n",
       "      <td>...</td>\n",
       "      <td>0</td>\n",
       "      <td>0</td>\n",
       "      <td>0</td>\n",
       "      <td>1</td>\n",
       "      <td>0</td>\n",
       "      <td>0</td>\n",
       "      <td>0</td>\n",
       "      <td>0</td>\n",
       "      <td>0</td>\n",
       "      <td>0</td>\n",
       "    </tr>\n",
       "    <tr>\n",
       "      <th>1</th>\n",
       "      <td>37</td>\n",
       "      <td>1</td>\n",
       "      <td>2</td>\n",
       "      <td>2</td>\n",
       "      <td>8</td>\n",
       "      <td>1</td>\n",
       "      <td>4</td>\n",
       "      <td>1</td>\n",
       "      <td>4</td>\n",
       "      <td>6</td>\n",
       "      <td>...</td>\n",
       "      <td>0</td>\n",
       "      <td>0</td>\n",
       "      <td>0</td>\n",
       "      <td>1</td>\n",
       "      <td>0</td>\n",
       "      <td>0</td>\n",
       "      <td>0</td>\n",
       "      <td>0</td>\n",
       "      <td>0</td>\n",
       "      <td>0</td>\n",
       "    </tr>\n",
       "    <tr>\n",
       "      <th>2</th>\n",
       "      <td>37</td>\n",
       "      <td>1</td>\n",
       "      <td>2</td>\n",
       "      <td>2</td>\n",
       "      <td>8</td>\n",
       "      <td>0</td>\n",
       "      <td>4</td>\n",
       "      <td>2</td>\n",
       "      <td>4</td>\n",
       "      <td>3</td>\n",
       "      <td>...</td>\n",
       "      <td>0</td>\n",
       "      <td>0</td>\n",
       "      <td>0</td>\n",
       "      <td>1</td>\n",
       "      <td>0</td>\n",
       "      <td>0</td>\n",
       "      <td>0</td>\n",
       "      <td>0</td>\n",
       "      <td>0</td>\n",
       "      <td>0</td>\n",
       "    </tr>\n",
       "    <tr>\n",
       "      <th>3</th>\n",
       "      <td>9</td>\n",
       "      <td>1</td>\n",
       "      <td>3</td>\n",
       "      <td>3</td>\n",
       "      <td>3</td>\n",
       "      <td>2</td>\n",
       "      <td>3</td>\n",
       "      <td>2</td>\n",
       "      <td>4</td>\n",
       "      <td>5</td>\n",
       "      <td>...</td>\n",
       "      <td>0</td>\n",
       "      <td>0</td>\n",
       "      <td>0</td>\n",
       "      <td>1</td>\n",
       "      <td>0</td>\n",
       "      <td>0</td>\n",
       "      <td>0</td>\n",
       "      <td>0</td>\n",
       "      <td>0</td>\n",
       "      <td>0</td>\n",
       "    </tr>\n",
       "    <tr>\n",
       "      <th>4</th>\n",
       "      <td>40</td>\n",
       "      <td>1</td>\n",
       "      <td>4</td>\n",
       "      <td>2</td>\n",
       "      <td>10</td>\n",
       "      <td>1</td>\n",
       "      <td>4</td>\n",
       "      <td>1</td>\n",
       "      <td>4</td>\n",
       "      <td>7</td>\n",
       "      <td>...</td>\n",
       "      <td>0</td>\n",
       "      <td>0</td>\n",
       "      <td>0</td>\n",
       "      <td>1</td>\n",
       "      <td>0</td>\n",
       "      <td>0</td>\n",
       "      <td>0</td>\n",
       "      <td>0</td>\n",
       "      <td>0</td>\n",
       "      <td>0</td>\n",
       "    </tr>\n",
       "  </tbody>\n",
       "</table>\n",
       "<p>5 rows × 86 columns</p>\n",
       "</div>"
      ],
      "text/plain": [
       "   MOSTYPE  MAANTHUI  MGEMOMV  MGEMLEEF  MOSHOOFD  MGODRK  MGODPR  MGODOV  \\\n",
       "0       33         1        3         2         8       0       5       1   \n",
       "1       37         1        2         2         8       1       4       1   \n",
       "2       37         1        2         2         8       0       4       2   \n",
       "3        9         1        3         3         3       2       3       2   \n",
       "4       40         1        4         2        10       1       4       1   \n",
       "\n",
       "   MGODGE  MRELGE  ...  APERSONG  AGEZONG  AWAOREG  ABRAND  AZEILPL  APLEZIER  \\\n",
       "0       3       7  ...         0        0        0       1        0         0   \n",
       "1       4       6  ...         0        0        0       1        0         0   \n",
       "2       4       3  ...         0        0        0       1        0         0   \n",
       "3       4       5  ...         0        0        0       1        0         0   \n",
       "4       4       7  ...         0        0        0       1        0         0   \n",
       "\n",
       "   AFIETS  AINBOED  ABYSTAND  Purchase  \n",
       "0       0        0         0         0  \n",
       "1       0        0         0         0  \n",
       "2       0        0         0         0  \n",
       "3       0        0         0         0  \n",
       "4       0        0         0         0  \n",
       "\n",
       "[5 rows x 86 columns]"
      ]
     },
     "execution_count": 2,
     "metadata": {},
     "output_type": "execute_result"
    }
   ],
   "source": [
    "url_path = os.path.abspath('..')\n",
    "caravan = pd.read_csv(url_path + '/data/Caravan.csv')\n",
    "caravan['Purchase'] = caravan['Purchase'].map({'No': 0, 'Yes':1})\n",
    "caravan.head()"
   ]
  },
  {
   "cell_type": "code",
   "execution_count": 3,
   "metadata": {},
   "outputs": [
    {
     "data": {
      "text/plain": [
       "<matplotlib.axes._subplots.AxesSubplot at 0x1bd4acd75c8>"
      ]
     },
     "execution_count": 3,
     "metadata": {},
     "output_type": "execute_result"
    },
    {
     "data": {
      "image/png": "[encoded data removed]",
      "text/plain": [
       "<Figure size 432x288 with 1 Axes>"
      ]
     },
     "metadata": {
      "needs_background": "light"
     },
     "output_type": "display_data"
    }
   ],
   "source": [
    "caravan['Purchase'].hist()"
   ]
  },
  {
   "cell_type": "code",
   "execution_count": 4,
   "metadata": {},
   "outputs": [
    {
     "name": "stdout",
     "output_type": "stream",
     "text": [
      "Percent of Positive Obs.: 0.0598\n"
     ]
    }
   ],
   "source": [
    "prcnt_positive = sum(caravan['Purchase']) / len(caravan['Purchase'])\n",
    "\n",
    "print('Percent of Positive Obs.: {:.3}'.format(prcnt_positive))                                                 "
   ]
  },
  {
   "cell_type": "code",
   "execution_count": 5,
   "metadata": {},
   "outputs": [],
   "source": [
    "train_set = caravan.iloc[:1000, :]\n",
    "test_set = caravan.iloc[1000:, :]\n",
    "\n",
    "\n",
    "X_train = train_set.drop('Purchase', axis=1)\n",
    "y_train = train_set['Purchase']\n",
    "\n",
    "X_test = test_set.drop('Purchase', axis=1)\n",
    "y_test = test_set['Purchase']\n",
    "\n",
    "# Oversampling\n",
    "oversampler = SMOTE(sampling_strategy=0.5)\n",
    "#oversampler = RandomOverSampler(sampling_strategy=0.5)\n",
    "\n",
    "X_over, y_over = oversampler.fit_resample(X_train, y_train)\n"
   ]
  },
  {
   "cell_type": "markdown",
   "metadata": {},
   "source": [
    "#### 8.11.b. Fit a boosting model to the training set with Purchase as the response and the other variables are predictors. Use 1,000 trees and a shrinkage of 0.01. Which predictors appear to be the most important?"
   ]
  },
  {
   "cell_type": "code",
   "execution_count": 6,
   "metadata": {},
   "outputs": [
    {
     "name": "stdout",
     "output_type": "stream",
     "text": [
      "[[4440   93]\n",
      " [ 275   14]]\n",
      "              precision    recall  f1-score   support\n",
      "\n",
      "           0       0.94      0.98      0.96      4533\n",
      "           1       0.13      0.05      0.07       289\n",
      "\n",
      "    accuracy                           0.92      4822\n",
      "   macro avg       0.54      0.51      0.52      4822\n",
      "weighted avg       0.89      0.92      0.91      4822\n",
      "\n"
     ]
    }
   ],
   "source": [
    "gboost2 = GradientBoostingClassifier(n_estimators=1000, learning_rate=0.01)\n",
    "\n",
    "# NO oversampling\n",
    "#gboost2.fit(X_train, y_train)\n",
    "\n",
    "# OVERSAMPLING\n",
    "gboost2.fit(X_over, y_over)\n",
    "\n",
    "pred = gboost2.predict(X_test)\n",
    "\n",
    "print(confusion_matrix(y_test, pred))\n",
    "print(classification_report(y_test, pred))"
   ]
  },
  {
   "cell_type": "code",
   "execution_count": 14,
   "metadata": {},
   "outputs": [
    {
     "data": {
      "image/png": "[encoded data removed]",
      "text/plain": [
       "<Figure size 576x720 with 1 Axes>"
      ]
     },
     "metadata": {
      "needs_background": "light"
     },
     "output_type": "display_data"
    }
   ],
   "source": [
    "ch8_utils.calculate_and_plot_permutation_importance(gboost2, X_over, y_over, 10, 3, (8,10), 20)"
   ]
  },
  {
   "cell_type": "code",
   "execution_count": null,
   "metadata": {},
   "outputs": [],
   "source": []
  },
  {
   "cell_type": "code",
   "execution_count": null,
   "metadata": {},
   "outputs": [],
   "source": []
  }
 ],
 "metadata": {
  "kernelspec": {
   "display_name": "Python 3",
   "language": "python",
   "name": "python3"
  },
  "language_info": {
   "codemirror_mode": {
    "name": "ipython",
    "version": 3
   },
   "file_extension": ".py",
   "mimetype": "text/x-python",
   "name": "python",
   "nbconvert_exporter": "python",
   "pygments_lexer": "ipython3",
   "version": "3.7.9"
  }
 },
 "nbformat": 4,
 "nbformat_minor": 4
}
