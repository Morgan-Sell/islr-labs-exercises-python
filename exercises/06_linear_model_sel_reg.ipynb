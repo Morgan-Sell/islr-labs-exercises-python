{
 "cells": [
  {
   "cell_type": "markdown",
   "metadata": {},
   "source": [
    "# Chapter 6 Exercises - Linear Model Selection and Regularization"
   ]
  },
  {
   "cell_type": "code",
   "execution_count": 23,
   "metadata": {},
   "outputs": [],
   "source": [
    "import numpy as np\n",
    "import pandas as pd\n",
    "from math import exp, log, sqrt, pi\n",
    "import time\n",
    "import itertools\n",
    "from tqdm import trange\n",
    "\n",
    "import matplotlib.pyplot as plt\n",
    "import seaborn as sns\n",
    "%matplotlib inline\n",
    "\n",
    "from sklearn.preprocessing import scale, StandardScaler\n",
    "from sklearn import model_selection\n",
    "from sklearn.linear_model import LinearRegression, Ridge, RidgeCV, Lasso, LassoCV\n",
    "from sklearn.decomposition import PCA\n",
    "from sklearn.cross_decomposition import PLSRegression\n",
    "from sklearn.model_selection import RepeatedKFold, cross_val_score, train_test_split, GridSearchCV, KFold\n",
    "from sklearn.metrics import mean_squared_error\n",
    "from sklearn.pipeline import Pipeline, make_pipeline\n",
    "\n",
    "import os.path"
   ]
  },
  {
   "cell_type": "markdown",
   "metadata": {},
   "source": [
    "## Conceptual"
   ]
  },
  {
   "cell_type": "markdown",
   "metadata": {},
   "source": [
    "**1.(a)** Best subset will have the smallest training RSS. The approach considers all possible permutations of p predictors. Consequently, we will identify the best portfolio of *p* predictors for the training set. The drawback is that this model is likely to be overfitted to the training data and is computationally expensive.\n",
    "\n",
    "**1.(b)** No one approach is guaranteed to the provide the best performing model, i.e., smallest test error.\n",
    "\n",
    "- Best subset is problematic because of the challenges in transferring the best training model to test model. The features that produce the smallest training MSE do not neccessarily generate the smallest testing MSE. If able to properly translate the training MSE to the test MSE, then best subset like is most likley to produce the smallest test error.\n",
    "- Forward stepwise is most unlikely to provide the lowest MSE because the approach does not random permutations. It linearly appends features based on the which feature provides the most information gain. However, the order of features may not align with the portfolio of features that create the best answer. For example, forward stepwise will never select feature 2 and feature 3 because it is required to start with feature 1, which on its own may provide the most information gain.\n",
    "- Backward stepwise requires that the number of observations is greater than the number of features.\n",
    "\n",
    "**1.(c)**<br>\n",
    "i) True  \n",
    "<br>\n",
    "ii) True \n",
    "<br>\n",
    "iii) False\n",
    "<br>\n",
    "iv)False\n",
    "<br>\n",
    "v) False"
   ]
  },
  {
   "cell_type": "markdown",
   "metadata": {},
   "source": [
    "### Notes on Model Flexibility\n",
    "\n",
    "Model flexibility is how much a model's behavior is influenced by the data's characteristics. The Ridge and Lasso penalities/shrinkage factors decrease the affect of the dataset's characteristics on the model's behavior. Consequently, the Right and Lasso are less flexible than least square estimates.\n",
    "\n",
    "In general, the **more flexible** the model, the **less bias** (in aboslute value) and the **more variance** you'll get when predicting on the test dataset.\n",
    "\n",
    "#### Rules of Thumb\n",
    "1. Sample size is large and the number of predictors is small - A flexible model performs better. The larger the sample size, the less likely to overfit even when using a more flexible model. Meanwhile, a more flexible model tends to reduce bias.\n",
    "\n",
    "2. Number of predictors is large and the sample size is small - An inflexible model performs better. A flexible model will cause overfitting because of the small sample size. This usually means a bigger inflation in variance and a small reduction in bias.\n",
    "\n",
    "3. Relationship between the predictors and response is highly non-linear - A flexible performs better. A flexible model is required to find the non-linear effect.\n",
    "\n",
    "4. Variance of the errors is large - An inflexible model performs better. A flexible model will capture too much of the noise in the data due to the large variance of the errors."
   ]
  },
  {
   "cell_type": "markdown",
   "metadata": {},
   "source": [
    "#### Lasso vs Least Squares\n",
    "\n",
    "**2.(a).i** Incorrect - The Lasso is less flexible than least squares.\n",
    "\n",
    "**2.(a).ii** Incorrect - The Lasso is less flexible than least squares.\n",
    "\n",
    "**2.(a).iii** Correct - The Lasso's L2 penalty decreases the variance by constraining the influence of the dataset's characteristics. Some variables may be zero'ed out b/c of the shrinkage factors. This works well when the variance error is large or there are more features than observations.\n",
    "\n",
    "**2.(a).iv** Incorrect - The Lasso decreases variance and increases bias."
   ]
  },
  {
   "cell_type": "markdown",
   "metadata": {},
   "source": [
    "#### Ridge vs Least Squares\n",
    "\n",
    "**2.(b).i** Incorrect - The Ridge is less flexible than least squares.\n",
    "\n",
    "**2.(b).ii** Incorrect - The Ridge is less flexible than least squares.\n",
    "\n",
    "**2.(b).iii** Correct - The Ridge's L1 penalty decreases the variance by constraining the influence of the dataset's characteristics. The penalty decreases the values of the coefficients close to zero, but not to zero. This works well when the variance error is large or there are more features than observations.\n",
    "\n",
    "**2.(b).iv** Incorrect - The Ridge decreases variance and increases bias."
   ]
  },
  {
   "cell_type": "markdown",
   "metadata": {},
   "source": [
    "#### Non-linear Methods vs Least Squares\n",
    "\n",
    "**2.(c).i** Correct - PCR and PLS are more flexible as they can handle non-linear relationships. These models decrease the variance my coaslescing independent variables. This decreases the variances by decreasing the impact of any single feature. Consequently, the models increase the bias.\n",
    "\n",
    "**2.(c).ii** Incorrect - PCR and PLS increase the bias and decrease the variance.\n",
    "\n",
    "**2.(c).iii** Non-linear methods are more flexible than least squares.\n",
    "\n",
    "**2.(c).iv** Incorrect - Non-linear methods are more flexible than least squares."
   ]
  },
  {
   "cell_type": "markdown",
   "metadata": {},
   "source": [
    "### Lasso Regression Coefficients\n",
    "\n",
    "3.(a). As **s increases**, the **training RSS** will decrease initially and then eventually start increasing.\n",
    "\n",
    "3.(b). As **s increases**, the **testing RSS** will decrease initially and then eventually start increasing.\n",
    "\n",
    "3.(c). As **s increases**, the **variance** steadily decreases.\n",
    "\n",
    "3.(d). As **s increases**, the **bias** steadily increases.\n",
    "\n",
    "3.(e). As **s increases**, the **irreducible error** remains constant."
   ]
  },
  {
   "cell_type": "markdown",
   "metadata": {},
   "source": [
    "### Ridge Regression Coefficients\n",
    "\n",
    "4.(a). As **lambda increases**, the **training RSS** will decrease initially and then eventually start increasing.\n",
    "\n",
    "4.(b). As **lambda increases**, the **testing RSS** will decrease initially and then eventually start increasing.\n",
    "\n",
    "4.(c). As **lambda increases**, the **variance** steadily decreases.\n",
    "\n",
    "4.(d). As **lambda increases**, the **bias** steadily increases.\n",
    "\n",
    "4.(e). As **lambda increases**, the **irreducible error** remains constant.\n"
   ]
  },
  {
   "cell_type": "markdown",
   "metadata": {},
   "source": [
    "### Ridge vs. Lasso\n",
    "\n",
    " - The Ridge regression tends to give similar coefficient values to correlated variables. Meanwhile, the lasso may give quote different coefficient values to correlated variables.\n",
    " - In Ridge regression, each least squares coefficient is shrunken by the same proportion.\n",
    " - The Lasso shrinks each least squares coefficeint towards zero by a constant amount."
   ]
  },
  {
   "cell_type": "markdown",
   "metadata": {},
   "source": [
    "## Applied"
   ]
  },
  {
   "cell_type": "code",
   "execution_count": 2,
   "metadata": {},
   "outputs": [],
   "source": [
    "path = os.path.abspath('..')\n",
    "college = pd.read_csv(path + '\\data\\College.csv', index_col=0)"
   ]
  },
  {
   "cell_type": "code",
   "execution_count": 3,
   "metadata": {},
   "outputs": [
    {
     "data": {
      "text/html": [
       "<div>\n",
       "<style scoped>\n",
       "    .dataframe tbody tr th:only-of-type {\n",
       "        vertical-align: middle;\n",
       "    }\n",
       "\n",
       "    .dataframe tbody tr th {\n",
       "        vertical-align: top;\n",
       "    }\n",
       "\n",
       "    .dataframe thead th {\n",
       "        text-align: right;\n",
       "    }\n",
       "</style>\n",
       "<table border=\"1\" class=\"dataframe\">\n",
       "  <thead>\n",
       "    <tr style=\"text-align: right;\">\n",
       "      <th></th>\n",
       "      <th>Private</th>\n",
       "      <th>Apps</th>\n",
       "      <th>Accept</th>\n",
       "      <th>Enroll</th>\n",
       "      <th>Top10perc</th>\n",
       "      <th>Top25perc</th>\n",
       "      <th>F.Undergrad</th>\n",
       "      <th>P.Undergrad</th>\n",
       "      <th>Outstate</th>\n",
       "      <th>Room.Board</th>\n",
       "      <th>Books</th>\n",
       "      <th>Personal</th>\n",
       "      <th>PhD</th>\n",
       "      <th>Terminal</th>\n",
       "      <th>S.F.Ratio</th>\n",
       "      <th>perc.alumni</th>\n",
       "      <th>Expend</th>\n",
       "      <th>Grad.Rate</th>\n",
       "    </tr>\n",
       "  </thead>\n",
       "  <tbody>\n",
       "    <tr>\n",
       "      <th>Abilene Christian University</th>\n",
       "      <td>Yes</td>\n",
       "      <td>1660</td>\n",
       "      <td>1232</td>\n",
       "      <td>721</td>\n",
       "      <td>23</td>\n",
       "      <td>52</td>\n",
       "      <td>2885</td>\n",
       "      <td>537</td>\n",
       "      <td>7440</td>\n",
       "      <td>3300</td>\n",
       "      <td>450</td>\n",
       "      <td>2200</td>\n",
       "      <td>70</td>\n",
       "      <td>78</td>\n",
       "      <td>18.1</td>\n",
       "      <td>12</td>\n",
       "      <td>7041</td>\n",
       "      <td>60</td>\n",
       "    </tr>\n",
       "    <tr>\n",
       "      <th>Adelphi University</th>\n",
       "      <td>Yes</td>\n",
       "      <td>2186</td>\n",
       "      <td>1924</td>\n",
       "      <td>512</td>\n",
       "      <td>16</td>\n",
       "      <td>29</td>\n",
       "      <td>2683</td>\n",
       "      <td>1227</td>\n",
       "      <td>12280</td>\n",
       "      <td>6450</td>\n",
       "      <td>750</td>\n",
       "      <td>1500</td>\n",
       "      <td>29</td>\n",
       "      <td>30</td>\n",
       "      <td>12.2</td>\n",
       "      <td>16</td>\n",
       "      <td>10527</td>\n",
       "      <td>56</td>\n",
       "    </tr>\n",
       "    <tr>\n",
       "      <th>Adrian College</th>\n",
       "      <td>Yes</td>\n",
       "      <td>1428</td>\n",
       "      <td>1097</td>\n",
       "      <td>336</td>\n",
       "      <td>22</td>\n",
       "      <td>50</td>\n",
       "      <td>1036</td>\n",
       "      <td>99</td>\n",
       "      <td>11250</td>\n",
       "      <td>3750</td>\n",
       "      <td>400</td>\n",
       "      <td>1165</td>\n",
       "      <td>53</td>\n",
       "      <td>66</td>\n",
       "      <td>12.9</td>\n",
       "      <td>30</td>\n",
       "      <td>8735</td>\n",
       "      <td>54</td>\n",
       "    </tr>\n",
       "    <tr>\n",
       "      <th>Agnes Scott College</th>\n",
       "      <td>Yes</td>\n",
       "      <td>417</td>\n",
       "      <td>349</td>\n",
       "      <td>137</td>\n",
       "      <td>60</td>\n",
       "      <td>89</td>\n",
       "      <td>510</td>\n",
       "      <td>63</td>\n",
       "      <td>12960</td>\n",
       "      <td>5450</td>\n",
       "      <td>450</td>\n",
       "      <td>875</td>\n",
       "      <td>92</td>\n",
       "      <td>97</td>\n",
       "      <td>7.7</td>\n",
       "      <td>37</td>\n",
       "      <td>19016</td>\n",
       "      <td>59</td>\n",
       "    </tr>\n",
       "    <tr>\n",
       "      <th>Alaska Pacific University</th>\n",
       "      <td>Yes</td>\n",
       "      <td>193</td>\n",
       "      <td>146</td>\n",
       "      <td>55</td>\n",
       "      <td>16</td>\n",
       "      <td>44</td>\n",
       "      <td>249</td>\n",
       "      <td>869</td>\n",
       "      <td>7560</td>\n",
       "      <td>4120</td>\n",
       "      <td>800</td>\n",
       "      <td>1500</td>\n",
       "      <td>76</td>\n",
       "      <td>72</td>\n",
       "      <td>11.9</td>\n",
       "      <td>2</td>\n",
       "      <td>10922</td>\n",
       "      <td>15</td>\n",
       "    </tr>\n",
       "  </tbody>\n",
       "</table>\n",
       "</div>"
      ],
      "text/plain": [
       "                             Private  Apps  Accept  Enroll  Top10perc  \\\n",
       "Abilene Christian University     Yes  1660    1232     721         23   \n",
       "Adelphi University               Yes  2186    1924     512         16   \n",
       "Adrian College                   Yes  1428    1097     336         22   \n",
       "Agnes Scott College              Yes   417     349     137         60   \n",
       "Alaska Pacific University        Yes   193     146      55         16   \n",
       "\n",
       "                              Top25perc  F.Undergrad  P.Undergrad  Outstate  \\\n",
       "Abilene Christian University         52         2885          537      7440   \n",
       "Adelphi University                   29         2683         1227     12280   \n",
       "Adrian College                       50         1036           99     11250   \n",
       "Agnes Scott College                  89          510           63     12960   \n",
       "Alaska Pacific University            44          249          869      7560   \n",
       "\n",
       "                              Room.Board  Books  Personal  PhD  Terminal  \\\n",
       "Abilene Christian University        3300    450      2200   70        78   \n",
       "Adelphi University                  6450    750      1500   29        30   \n",
       "Adrian College                      3750    400      1165   53        66   \n",
       "Agnes Scott College                 5450    450       875   92        97   \n",
       "Alaska Pacific University           4120    800      1500   76        72   \n",
       "\n",
       "                              S.F.Ratio  perc.alumni  Expend  Grad.Rate  \n",
       "Abilene Christian University       18.1           12    7041         60  \n",
       "Adelphi University                 12.2           16   10527         56  \n",
       "Adrian College                     12.9           30    8735         54  \n",
       "Agnes Scott College                 7.7           37   19016         59  \n",
       "Alaska Pacific University          11.9            2   10922         15  "
      ]
     },
     "execution_count": 3,
     "metadata": {},
     "output_type": "execute_result"
    }
   ],
   "source": [
    "college.head()"
   ]
  },
  {
   "cell_type": "code",
   "execution_count": 4,
   "metadata": {},
   "outputs": [
    {
     "name": "stdout",
     "output_type": "stream",
     "text": [
      "<class 'pandas.core.frame.DataFrame'>\n",
      "Index: 777 entries, Abilene Christian University to York College of Pennsylvania\n",
      "Data columns (total 18 columns):\n",
      " #   Column       Non-Null Count  Dtype  \n",
      "---  ------       --------------  -----  \n",
      " 0   Private      777 non-null    object \n",
      " 1   Apps         777 non-null    int64  \n",
      " 2   Accept       777 non-null    int64  \n",
      " 3   Enroll       777 non-null    int64  \n",
      " 4   Top10perc    777 non-null    int64  \n",
      " 5   Top25perc    777 non-null    int64  \n",
      " 6   F.Undergrad  777 non-null    int64  \n",
      " 7   P.Undergrad  777 non-null    int64  \n",
      " 8   Outstate     777 non-null    int64  \n",
      " 9   Room.Board   777 non-null    int64  \n",
      " 10  Books        777 non-null    int64  \n",
      " 11  Personal     777 non-null    int64  \n",
      " 12  PhD          777 non-null    int64  \n",
      " 13  Terminal     777 non-null    int64  \n",
      " 14  S.F.Ratio    777 non-null    float64\n",
      " 15  perc.alumni  777 non-null    int64  \n",
      " 16  Expend       777 non-null    int64  \n",
      " 17  Grad.Rate    777 non-null    int64  \n",
      "dtypes: float64(1), int64(16), object(1)\n",
      "memory usage: 115.3+ KB\n"
     ]
    }
   ],
   "source": [
    "college.info()"
   ]
  },
  {
   "cell_type": "markdown",
   "metadata": {},
   "source": [
    "Train Test Split"
   ]
  },
  {
   "cell_type": "code",
   "execution_count": null,
   "metadata": {},
   "outputs": [],
   "source": []
  },
  {
   "cell_type": "code",
   "execution_count": 5,
   "metadata": {},
   "outputs": [],
   "source": [
    "# Feature Engineering\n",
    "college['is_private'] = college['Private'].apply(lambda x: 1 if x == 'Yes' else 0)\n",
    "\n",
    "# Process the data\n",
    "X = college.drop(['Grad.Rate', 'Private'], axis=1)\n",
    "y = college['Grad.Rate']\n",
    "\n",
    "X_train, X_test, y_train, y_test = train_test_split(X, y, test_size=0.2, random_state=3)\n",
    "\n",
    "scaler = StandardScaler()\n",
    "scaler.fit(X_train)\n",
    "X_train_scaled = scaler.transform(X_train)\n",
    "X_test_scaled = scaler.transform(X_test)"
   ]
  },
  {
   "cell_type": "markdown",
   "metadata": {},
   "source": [
    "### 9.(b). Fit a linear model and report the test error"
   ]
  },
  {
   "cell_type": "code",
   "execution_count": 6,
   "metadata": {},
   "outputs": [
    {
     "name": "stdout",
     "output_type": "stream",
     "text": [
      "Linear Regression Test MSE: 167.1\n"
     ]
    }
   ],
   "source": [
    "linear = LinearRegression()\n",
    "linear.fit(X_train_scaled, y_train)\n",
    "y_pred = linear.predict(X_test_scaled)\n",
    "\n",
    "print(\"Linear Regression Test MSE: {:.4}\".format(mean_squared_error(y_test, y_pred)))"
   ]
  },
  {
   "cell_type": "markdown",
   "metadata": {},
   "source": [
    "### 9.(b). Fit a Ridge. Choose Lambda using cross-validation"
   ]
  },
  {
   "cell_type": "code",
   "execution_count": 7,
   "metadata": {},
   "outputs": [
    {
     "data": {
      "text/plain": [
       "(5, 17)"
      ]
     },
     "execution_count": 7,
     "metadata": {},
     "output_type": "execute_result"
    }
   ],
   "source": [
    "# alpha = lambda\n",
    "alphas = [0, 1, 5, 10, 100]\n",
    "\n",
    "# already scaled features\n",
    "ridge = Ridge(normalize=True)\n",
    "coefs = []\n",
    "\n",
    "for a in  alphas:\n",
    "    ridge.set_params(alpha=a)\n",
    "    ridge.fit(X_train_scaled, y_train)\n",
    "    coefs.append(ridge.coef_)\n",
    "\n",
    "np.shape(coefs)"
   ]
  },
  {
   "cell_type": "code",
   "execution_count": 8,
   "metadata": {},
   "outputs": [
    {
     "data": {
      "image/png": "[encoded data removed]",
      "text/plain": [
       "<Figure size 576x288 with 1 Axes>"
      ]
     },
     "metadata": {
      "needs_background": "light"
     },
     "output_type": "display_data"
    }
   ],
   "source": [
    "fig, ax = plt.subplots(figsize=(8,4))\n",
    "ax.plot(alphas, coefs)\n",
    "ax.set_xscale('log')\n",
    "ax.set_xlabel('alpha')\n",
    "ax.set_xlim(ax.get_xlim()[::-1])\n",
    "ax.set_ylabel('weights')\n",
    "\n",
    "fig.tight_layout();"
   ]
  },
  {
   "cell_type": "markdown",
   "metadata": {},
   "source": [
    "#### Select optimal alpha using GridsearchCV"
   ]
  },
  {
   "cell_type": "code",
   "execution_count": 9,
   "metadata": {},
   "outputs": [
    {
     "name": "stdout",
     "output_type": "stream",
     "text": [
      "Best MSE: -169.05\n",
      "Best Alpha: 100\n"
     ]
    }
   ],
   "source": [
    "ridge = Ridge()\n",
    "cv = RepeatedKFold(n_splits=10, n_repeats=3, random_state=3)\n",
    "\n",
    "alphas = [0, 1, 5, 10, 100]\n",
    "grid = dict()\n",
    "grid['alpha'] = alphas\n",
    "\n",
    "gsearch = GridSearchCV(ridge, grid, scoring='neg_mean_squared_error', cv=cv, n_jobs=-1)\n",
    "\n",
    "results = gsearch.fit(X_train_scaled, y_train)\n",
    "\n",
    "print('Best MSE: {:.5}'.format(results.best_score_))\n",
    "print('Best Alpha: {}'.format(results.best_params_['alpha']))"
   ]
  },
  {
   "cell_type": "markdown",
   "metadata": {},
   "source": [
    "### Train and Predict Value setting Alpha = 100"
   ]
  },
  {
   "cell_type": "code",
   "execution_count": 10,
   "metadata": {},
   "outputs": [
    {
     "name": "stdout",
     "output_type": "stream",
     "text": [
      "Ridge Test MSE: 164.2\n"
     ]
    }
   ],
   "source": [
    "alpha=100\n",
    "ridge = Ridge(alpha=alpha)\n",
    "\n",
    "ridge.fit(X_train_scaled, y_train)\n",
    "y_pred = ridge.predict(X_test_scaled)\n",
    "\n",
    "print(\"Ridge Test MSE: {:.4}\".format(mean_squared_error(y_test, y_pred)))"
   ]
  },
  {
   "cell_type": "markdown",
   "metadata": {},
   "source": [
    "## 9.(d) Lasso"
   ]
  },
  {
   "cell_type": "code",
   "execution_count": 11,
   "metadata": {},
   "outputs": [
    {
     "name": "stdout",
     "output_type": "stream",
     "text": [
      "Best MSE: -171.74\n",
      "Best Alpha: 1\n"
     ]
    }
   ],
   "source": [
    "lasso = Lasso()\n",
    "cv = RepeatedKFold(n_splits=10, n_repeats=3, random_state=3)\n",
    "\n",
    "grid = dict()\n",
    "alphas = [0, 1, 5, 10, 100]\n",
    "grid['alpha'] = alphas\n",
    "\n",
    "gsearch = GridSearchCV(lasso, grid, scoring='neg_mean_squared_error', cv=cv, n_jobs=-1)\n",
    "\n",
    "results = gsearch.fit(X_train_scaled, y_train)\n",
    "\n",
    "print('Best MSE: {:.5}'.format(results.best_score_))\n",
    "print('Best Alpha: {}'.format(results.best_params_['alpha']))"
   ]
  },
  {
   "cell_type": "code",
   "execution_count": 12,
   "metadata": {},
   "outputs": [
    {
     "name": "stdout",
     "output_type": "stream",
     "text": [
      "Ridge Test MSE: 175.5\n"
     ]
    }
   ],
   "source": [
    "alpha=1\n",
    "lasso = Lasso(alpha=alpha)\n",
    "\n",
    "lasso.fit(X_train_scaled, y_train)\n",
    "y_pred = lasso.predict(X_test_scaled)\n",
    "\n",
    "print(\"Ridge Test MSE: {:.4}\".format(mean_squared_error(y_test, y_pred)))"
   ]
  },
  {
   "cell_type": "markdown",
   "metadata": {},
   "source": [
    "## 9.(e). PCR\n",
    "\n",
    "PCR is a regressor composed of two steps: first, PCA is applied to the training data, possibly performing dimensionality reduction; then, a regressor (e.g. a linear regressor) is trained on the transformed samples. In PCA, the transformation is purely unsupervised, meaning that no information about the targets is used. As a result, PCR may perform poorly in some datasets where the target is strongly correlated with directions that have low variance. "
   ]
  },
  {
   "cell_type": "code",
   "execution_count": 33,
   "metadata": {},
   "outputs": [
    {
     "data": {
      "image/png": "[encoded data removed]",
      "text/plain": [
       "<Figure size 504x288 with 1 Axes>"
      ]
     },
     "metadata": {
      "needs_background": "light"
     },
     "output_type": "display_data"
    }
   ],
   "source": [
    "pca_model = PCA()\n",
    "pca_model.fit(X_train)\n",
    "X_train_reduced = pca_model.transform(X_train)\n",
    "num_components_rng = np.arange(1, 20)\n",
    "\n",
    "n = len(X_train_reduced)\n",
    "\n",
    "linear_reg = LinearRegression(fit_intercept=True)\n",
    "mse = []\n",
    "\n",
    "kfold_10 = RepeatedKFold(n_splits=10, n_repeats=5, random_state=3)\n",
    "#kfold_10 = KFold(n_splits=10, random_state=3)\n",
    "\n",
    "# Calculate MSE for intercept only. No components.\n",
    "score = -1 * cross_val_score(linear_reg, np.ones((n, 1)), y_train.ravel(), cv=kfold_10, scoring='neg_mean_squared_error').mean()\n",
    "mse.append(score)\n",
    "\n",
    "for i in num_components_rng:\n",
    "    score = -1 * cross_val_score(linear_reg, X_train_reduced[:, :i], y_train.ravel(), cv=kfold_10, scoring='neg_mean_squared_error').mean()\n",
    "    mse.append(score)\n",
    "\n",
    "plt.figure(figsize=(7,4))\n",
    "plt.plot(mse, '-v')\n",
    "plt.xlabel('Number of Principal Components in Regression')\n",
    "plt.ylabel('MSE')\n",
    "plt.title('School Graduation Rate')\n",
    "plt.xlim(xmin=-1)\n",
    "plt.tight_layout();\n"
   ]
  },
  {
   "cell_type": "code",
   "execution_count": 34,
   "metadata": {},
   "outputs": [
    {
     "name": "stdout",
     "output_type": "stream",
     "text": [
      "PCR MSE:  162.38497705295913\n"
     ]
    }
   ],
   "source": [
    "num_components = 11\n",
    "\n",
    "pca_model_2 = PCA(n_components=num_components)\n",
    "pca_model_2.fit(X_train_scaled)\n",
    "X_train_reduced = pca_model_2.transform(X_train_scaled)\n",
    "\n",
    "X_test_reduced = pca_model_2.transform(X_test_scaled)\n",
    "\n",
    "lin_reg = LinearRegression()\n",
    "lin_reg.fit(X_train_reduced, y_train)\n",
    "\n",
    "y_pred = lin_reg.predict(X_test_reduced)\n",
    "print(\"PCR MSE: \", mean_squared_error(y_test, y_pred))"
   ]
  },
  {
   "cell_type": "code",
   "execution_count": 41,
   "metadata": {},
   "outputs": [
    {
     "name": "stdout",
     "output_type": "stream",
     "text": [
      "X_train_scaled Shape:  (621, 17)\n",
      "X_train_reduced Shape:  (621, 11)\n",
      "\n",
      "\n",
      "X_test_scaled Shape:  (156, 17)\n",
      "X_test_reduced Shape:  (156, 11)\n"
     ]
    }
   ],
   "source": [
    "print(\"X_train_scaled Shape: \", X_train_scaled.shape)\n",
    "print(\"X_train_reduced Shape: \", X_train_reduced.shape)\n",
    "print(\"\\n\")\n",
    "print(\"X_test_scaled Shape: \", X_test_scaled.shape)\n",
    "print(\"X_test_reduced Shape: \", X_test_reduced.shape)\n"
   ]
  },
  {
   "cell_type": "code",
   "execution_count": 39,
   "metadata": {},
   "outputs": [
    {
     "data": {
      "text/plain": [
       "(156, 17)"
      ]
     },
     "execution_count": 39,
     "metadata": {},
     "output_type": "execute_result"
    }
   ],
   "source": [
    "X_test_scaled.shape"
   ]
  },
  {
   "cell_type": "markdown",
   "metadata": {},
   "source": [
    "## 9.(f). PLS"
   ]
  },
  {
   "cell_type": "code",
   "execution_count": 44,
   "metadata": {},
   "outputs": [
    {
     "data": {
      "image/png": "[encoded data removed]",
      "text/plain": [
       "<Figure size 504x288 with 1 Axes>"
      ]
     },
     "metadata": {
      "needs_background": "light"
     },
     "output_type": "display_data"
    }
   ],
   "source": [
    "num_components_rng = np.arange(1, 18)\n",
    "\n",
    "n = len(X_train_scaled)\n",
    "mse = []\n",
    "\n",
    "kfold_10 = RepeatedKFold(n_splits=10, n_repeats=5, random_state=3)\n",
    "#kfold_10 = KFold(n_splits=10, random_state=3)\n",
    "\n",
    "for i in num_components_rng:\n",
    "    pls = PLSRegression(n_components=i)\n",
    "    score = -1 * cross_val_score(pls, X_train_scaled, y_train, cv=kfold_10, scoring='neg_mean_squared_error').mean()\n",
    "    mse.append(score)\n",
    "\n",
    "plt.figure(figsize=(7,4))\n",
    "plt.plot(mse, '-v')\n",
    "plt.xlabel('Number of Principal Components in Regression')\n",
    "plt.ylabel('MSE')\n",
    "plt.title('School Graduation Rate')\n",
    "plt.xlim(xmin=-1)\n",
    "plt.tight_layout();"
   ]
  },
  {
   "cell_type": "code",
   "execution_count": 46,
   "metadata": {},
   "outputs": [
    {
     "name": "stdout",
     "output_type": "stream",
     "text": [
      "PLS MSE:  170.5795479144816\n"
     ]
    }
   ],
   "source": [
    "num_components = 2\n",
    "pls = PLSRegression(n_components=2)\n",
    "pls.fit(X_train_scaled, y_train)\n",
    "\n",
    "y_pred = pls.predict(X_test_scaled)\n",
    "\n",
    "print(\"PLS MSE: \", mean_squared_error(y_test, y_pred))"
   ]
  },
  {
   "cell_type": "code",
   "execution_count": null,
   "metadata": {},
   "outputs": [],
   "source": []
  }
 ],
 "metadata": {
  "kernelspec": {
   "display_name": "Python 3",
   "language": "python",
   "name": "python3"
  },
  "language_info": {
   "codemirror_mode": {
    "name": "ipython",
    "version": 3
   },
   "file_extension": ".py",
   "mimetype": "text/x-python",
   "name": "python",
   "nbconvert_exporter": "python",
   "pygments_lexer": "ipython3",
   "version": "3.7.9"
  }
 },
 "nbformat": 4,
 "nbformat_minor": 4
}
